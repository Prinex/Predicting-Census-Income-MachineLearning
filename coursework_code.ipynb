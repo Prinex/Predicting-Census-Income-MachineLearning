{
 "cells": [
  {
   "cell_type": "code",
   "execution_count": 844,
   "id": "5d43c600",
   "metadata": {},
   "outputs": [],
   "source": [
    "# libraries needed for data analysis, pre-processing, visualization\n",
    "import pandas as pd\n",
    "import numpy as np\n",
    "import matplotlib.pyplot as plt\n",
    "import seaborn as sns\n",
    "# output plots right below the cell input command\n",
    "%matplotlib inline \n",
    "# standarization and normalization might be needed, and convertor needed for categorical variables \n",
    "from sklearn.preprocessing import StandardScaler, Normalizer, OneHotEncoder\n",
    "# libraries needed for training, testing, building the model, and prediction\n",
    "from sklearn.model_selection import train_test_split\n",
    "# libraries for the chosen algorithms\n",
    "from sklearn.linear_model import LogisticRegression\n",
    "from sklearn.svm import SVC                   \n",
    "from sklearn.neighbors import KNeighborsClassifier\n",
    "# libraries needed for model tuning\n",
    "from sklearn.model_selection import GridSearchCV\n",
    "# libraries needed for evaluation - metrics\n",
    "from sklearn.metrics import accuracy_score, classification_report, confusion_matrix\n",
    "from math import *"
   ]
  },
  {
   "cell_type": "code",
   "execution_count": 845,
   "id": "0cfd159f",
   "metadata": {},
   "outputs": [
    {
     "data": {
      "text/plain": [
       "(32561, 15)"
      ]
     },
     "execution_count": 845,
     "metadata": {},
     "output_type": "execute_result"
    }
   ],
   "source": [
    "############################################# Data collection #################################################################\n",
    "# read the csv file and create a dataframe\n",
    "\n",
    "# overriding column names to a more conventional, understandable one\n",
    "cols = ['age', 'work_class', 'final_weight', 'education', 'education_num', 'marital_status', 'occupation', 'relationship', \n",
    "        'race', 'sex', 'capital_gain', 'capital_loss', 'hours_per_week', 'native_country', 'income']\n",
    "# read the csv file as a dataset\n",
    "df = pd.read_csv(\"adult.csv\", header = 0, names = cols)\n",
    "# print the shape of the dataset rows x cols\n",
    "df.shape"
   ]
  },
  {
   "cell_type": "code",
   "execution_count": 846,
   "id": "e4f42cc4",
   "metadata": {},
   "outputs": [
    {
     "name": "stdout",
     "output_type": "stream",
     "text": [
      "<class 'pandas.core.frame.DataFrame'>\n",
      "RangeIndex: 32561 entries, 0 to 32560\n",
      "Data columns (total 15 columns):\n",
      " #   Column          Non-Null Count  Dtype \n",
      "---  ------          --------------  ----- \n",
      " 0   age             32561 non-null  int64 \n",
      " 1   work_class      32561 non-null  object\n",
      " 2   final_weight    32561 non-null  int64 \n",
      " 3   education       32561 non-null  object\n",
      " 4   education_num   32561 non-null  int64 \n",
      " 5   marital_status  32561 non-null  object\n",
      " 6   occupation      32561 non-null  object\n",
      " 7   relationship    32561 non-null  object\n",
      " 8   race            32561 non-null  object\n",
      " 9   sex             32561 non-null  object\n",
      " 10  capital_gain    32561 non-null  int64 \n",
      " 11  capital_loss    32561 non-null  int64 \n",
      " 12  hours_per_week  32561 non-null  int64 \n",
      " 13  native_country  32561 non-null  object\n",
      " 14  income          32561 non-null  object\n",
      "dtypes: int64(6), object(9)\n",
      "memory usage: 3.7+ MB\n"
     ]
    },
    {
     "data": {
      "text/html": [
       "<div>\n",
       "<style scoped>\n",
       "    .dataframe tbody tr th:only-of-type {\n",
       "        vertical-align: middle;\n",
       "    }\n",
       "\n",
       "    .dataframe tbody tr th {\n",
       "        vertical-align: top;\n",
       "    }\n",
       "\n",
       "    .dataframe thead th {\n",
       "        text-align: right;\n",
       "    }\n",
       "</style>\n",
       "<table border=\"1\" class=\"dataframe\">\n",
       "  <thead>\n",
       "    <tr style=\"text-align: right;\">\n",
       "      <th></th>\n",
       "      <th>age</th>\n",
       "      <th>work_class</th>\n",
       "      <th>final_weight</th>\n",
       "      <th>education</th>\n",
       "      <th>education_num</th>\n",
       "      <th>marital_status</th>\n",
       "      <th>occupation</th>\n",
       "      <th>relationship</th>\n",
       "      <th>race</th>\n",
       "      <th>sex</th>\n",
       "      <th>capital_gain</th>\n",
       "      <th>capital_loss</th>\n",
       "      <th>hours_per_week</th>\n",
       "      <th>native_country</th>\n",
       "      <th>income</th>\n",
       "    </tr>\n",
       "  </thead>\n",
       "  <tbody>\n",
       "    <tr>\n",
       "      <th>0</th>\n",
       "      <td>90</td>\n",
       "      <td>?</td>\n",
       "      <td>77053</td>\n",
       "      <td>HS-grad</td>\n",
       "      <td>9</td>\n",
       "      <td>Widowed</td>\n",
       "      <td>?</td>\n",
       "      <td>Not-in-family</td>\n",
       "      <td>White</td>\n",
       "      <td>Female</td>\n",
       "      <td>0</td>\n",
       "      <td>4356</td>\n",
       "      <td>40</td>\n",
       "      <td>United-States</td>\n",
       "      <td>&lt;=50K</td>\n",
       "    </tr>\n",
       "    <tr>\n",
       "      <th>1</th>\n",
       "      <td>82</td>\n",
       "      <td>Private</td>\n",
       "      <td>132870</td>\n",
       "      <td>HS-grad</td>\n",
       "      <td>9</td>\n",
       "      <td>Widowed</td>\n",
       "      <td>Exec-managerial</td>\n",
       "      <td>Not-in-family</td>\n",
       "      <td>White</td>\n",
       "      <td>Female</td>\n",
       "      <td>0</td>\n",
       "      <td>4356</td>\n",
       "      <td>18</td>\n",
       "      <td>United-States</td>\n",
       "      <td>&lt;=50K</td>\n",
       "    </tr>\n",
       "    <tr>\n",
       "      <th>2</th>\n",
       "      <td>66</td>\n",
       "      <td>?</td>\n",
       "      <td>186061</td>\n",
       "      <td>Some-college</td>\n",
       "      <td>10</td>\n",
       "      <td>Widowed</td>\n",
       "      <td>?</td>\n",
       "      <td>Unmarried</td>\n",
       "      <td>Black</td>\n",
       "      <td>Female</td>\n",
       "      <td>0</td>\n",
       "      <td>4356</td>\n",
       "      <td>40</td>\n",
       "      <td>United-States</td>\n",
       "      <td>&lt;=50K</td>\n",
       "    </tr>\n",
       "    <tr>\n",
       "      <th>3</th>\n",
       "      <td>54</td>\n",
       "      <td>Private</td>\n",
       "      <td>140359</td>\n",
       "      <td>7th-8th</td>\n",
       "      <td>4</td>\n",
       "      <td>Divorced</td>\n",
       "      <td>Machine-op-inspct</td>\n",
       "      <td>Unmarried</td>\n",
       "      <td>White</td>\n",
       "      <td>Female</td>\n",
       "      <td>0</td>\n",
       "      <td>3900</td>\n",
       "      <td>40</td>\n",
       "      <td>United-States</td>\n",
       "      <td>&lt;=50K</td>\n",
       "    </tr>\n",
       "    <tr>\n",
       "      <th>4</th>\n",
       "      <td>41</td>\n",
       "      <td>Private</td>\n",
       "      <td>264663</td>\n",
       "      <td>Some-college</td>\n",
       "      <td>10</td>\n",
       "      <td>Separated</td>\n",
       "      <td>Prof-specialty</td>\n",
       "      <td>Own-child</td>\n",
       "      <td>White</td>\n",
       "      <td>Female</td>\n",
       "      <td>0</td>\n",
       "      <td>3900</td>\n",
       "      <td>40</td>\n",
       "      <td>United-States</td>\n",
       "      <td>&lt;=50K</td>\n",
       "    </tr>\n",
       "  </tbody>\n",
       "</table>\n",
       "</div>"
      ],
      "text/plain": [
       "   age work_class  final_weight     education  education_num marital_status  \\\n",
       "0   90          ?         77053       HS-grad              9        Widowed   \n",
       "1   82    Private        132870       HS-grad              9        Widowed   \n",
       "2   66          ?        186061  Some-college             10        Widowed   \n",
       "3   54    Private        140359       7th-8th              4       Divorced   \n",
       "4   41    Private        264663  Some-college             10      Separated   \n",
       "\n",
       "          occupation   relationship   race     sex  capital_gain  \\\n",
       "0                  ?  Not-in-family  White  Female             0   \n",
       "1    Exec-managerial  Not-in-family  White  Female             0   \n",
       "2                  ?      Unmarried  Black  Female             0   \n",
       "3  Machine-op-inspct      Unmarried  White  Female             0   \n",
       "4     Prof-specialty      Own-child  White  Female             0   \n",
       "\n",
       "   capital_loss  hours_per_week native_country income  \n",
       "0          4356              40  United-States  <=50K  \n",
       "1          4356              18  United-States  <=50K  \n",
       "2          4356              40  United-States  <=50K  \n",
       "3          3900              40  United-States  <=50K  \n",
       "4          3900              40  United-States  <=50K  "
      ]
     },
     "execution_count": 846,
     "metadata": {},
     "output_type": "execute_result"
    }
   ],
   "source": [
    "#################################### Data analysis and pre-processing #########################################################\n",
    "# print information about the dataset\n",
    "df.info()\n",
    "# print first 5 rows of the dataset\n",
    "df.head()"
   ]
  },
  {
   "cell_type": "code",
   "execution_count": 847,
   "id": "b18d592a",
   "metadata": {},
   "outputs": [
    {
     "data": {
      "text/plain": [
       "age               0\n",
       "work_class        0\n",
       "final_weight      0\n",
       "education         0\n",
       "education_num     0\n",
       "marital_status    0\n",
       "occupation        0\n",
       "relationship      0\n",
       "race              0\n",
       "sex               0\n",
       "capital_gain      0\n",
       "capital_loss      0\n",
       "hours_per_week    0\n",
       "native_country    0\n",
       "income            0\n",
       "dtype: int64"
      ]
     },
     "execution_count": 847,
     "metadata": {},
     "output_type": "execute_result"
    }
   ],
   "source": [
    "# check for missing values / NA \n",
    "df.isna().sum()"
   ]
  },
  {
   "cell_type": "code",
   "execution_count": 848,
   "id": "5be39e4a",
   "metadata": {},
   "outputs": [],
   "source": [
    "# NA values are the '?' characters if we look closely\n",
    "# replace those values with actual NA and save the dataset\n",
    "df.replace('?', np.nan, inplace = True)"
   ]
  },
  {
   "cell_type": "code",
   "execution_count": 849,
   "id": "e1a8c962",
   "metadata": {},
   "outputs": [
    {
     "data": {
      "text/plain": [
       "age                  0\n",
       "work_class        1836\n",
       "final_weight         0\n",
       "education            0\n",
       "education_num        0\n",
       "marital_status       0\n",
       "occupation        1843\n",
       "relationship         0\n",
       "race                 0\n",
       "sex                  0\n",
       "capital_gain         0\n",
       "capital_loss         0\n",
       "hours_per_week       0\n",
       "native_country     583\n",
       "income               0\n",
       "dtype: int64"
      ]
     },
     "execution_count": 849,
     "metadata": {},
     "output_type": "execute_result"
    }
   ],
   "source": [
    "# check again for NA values\n",
    "df.isnull().sum()"
   ]
  },
  {
   "cell_type": "code",
   "execution_count": 850,
   "id": "704c5201",
   "metadata": {},
   "outputs": [
    {
     "data": {
      "text/plain": [
       "age               0\n",
       "work_class        0\n",
       "final_weight      0\n",
       "education         0\n",
       "education_num     0\n",
       "marital_status    0\n",
       "occupation        0\n",
       "relationship      0\n",
       "race              0\n",
       "sex               0\n",
       "capital_gain      0\n",
       "capital_loss      0\n",
       "hours_per_week    0\n",
       "native_country    0\n",
       "income            0\n",
       "dtype: int64"
      ]
     },
     "execution_count": 850,
     "metadata": {},
     "output_type": "execute_result"
    }
   ],
   "source": [
    "# workclass, occupation, and native country should not be dropped, i.e., low percentage of na values relatively to\n",
    "# the total no. of entries\n",
    "# so just drop the rows where there are na values\n",
    "df.dropna(inplace = True)\n",
    "# check the changes\n",
    "df.isnull().sum()"
   ]
  },
  {
   "cell_type": "code",
   "execution_count": 851,
   "id": "cbaf32b7",
   "metadata": {},
   "outputs": [
    {
     "data": {
      "text/plain": [
       "23"
      ]
     },
     "execution_count": 851,
     "metadata": {},
     "output_type": "execute_result"
    }
   ],
   "source": [
    "# look for duplicated rows\n",
    "df.duplicated().sum()"
   ]
  },
  {
   "cell_type": "code",
   "execution_count": 852,
   "id": "9be7dc2d",
   "metadata": {},
   "outputs": [
    {
     "name": "stdout",
     "output_type": "stream",
     "text": [
      "0\n"
     ]
    },
    {
     "data": {
      "text/html": [
       "<div>\n",
       "<style scoped>\n",
       "    .dataframe tbody tr th:only-of-type {\n",
       "        vertical-align: middle;\n",
       "    }\n",
       "\n",
       "    .dataframe tbody tr th {\n",
       "        vertical-align: top;\n",
       "    }\n",
       "\n",
       "    .dataframe thead th {\n",
       "        text-align: right;\n",
       "    }\n",
       "</style>\n",
       "<table border=\"1\" class=\"dataframe\">\n",
       "  <thead>\n",
       "    <tr style=\"text-align: right;\">\n",
       "      <th></th>\n",
       "      <th>age</th>\n",
       "      <th>work_class</th>\n",
       "      <th>final_weight</th>\n",
       "      <th>education</th>\n",
       "      <th>education_num</th>\n",
       "      <th>marital_status</th>\n",
       "      <th>occupation</th>\n",
       "      <th>relationship</th>\n",
       "      <th>race</th>\n",
       "      <th>sex</th>\n",
       "      <th>capital_gain</th>\n",
       "      <th>capital_loss</th>\n",
       "      <th>hours_per_week</th>\n",
       "      <th>native_country</th>\n",
       "      <th>income</th>\n",
       "    </tr>\n",
       "  </thead>\n",
       "  <tbody>\n",
       "    <tr>\n",
       "      <th>1</th>\n",
       "      <td>82</td>\n",
       "      <td>Private</td>\n",
       "      <td>132870</td>\n",
       "      <td>HS-grad</td>\n",
       "      <td>9</td>\n",
       "      <td>Widowed</td>\n",
       "      <td>Exec-managerial</td>\n",
       "      <td>Not-in-family</td>\n",
       "      <td>White</td>\n",
       "      <td>Female</td>\n",
       "      <td>0</td>\n",
       "      <td>4356</td>\n",
       "      <td>18</td>\n",
       "      <td>United-States</td>\n",
       "      <td>&lt;=50K</td>\n",
       "    </tr>\n",
       "    <tr>\n",
       "      <th>3</th>\n",
       "      <td>54</td>\n",
       "      <td>Private</td>\n",
       "      <td>140359</td>\n",
       "      <td>7th-8th</td>\n",
       "      <td>4</td>\n",
       "      <td>Divorced</td>\n",
       "      <td>Machine-op-inspct</td>\n",
       "      <td>Unmarried</td>\n",
       "      <td>White</td>\n",
       "      <td>Female</td>\n",
       "      <td>0</td>\n",
       "      <td>3900</td>\n",
       "      <td>40</td>\n",
       "      <td>United-States</td>\n",
       "      <td>&lt;=50K</td>\n",
       "    </tr>\n",
       "    <tr>\n",
       "      <th>4</th>\n",
       "      <td>41</td>\n",
       "      <td>Private</td>\n",
       "      <td>264663</td>\n",
       "      <td>Some-college</td>\n",
       "      <td>10</td>\n",
       "      <td>Separated</td>\n",
       "      <td>Prof-specialty</td>\n",
       "      <td>Own-child</td>\n",
       "      <td>White</td>\n",
       "      <td>Female</td>\n",
       "      <td>0</td>\n",
       "      <td>3900</td>\n",
       "      <td>40</td>\n",
       "      <td>United-States</td>\n",
       "      <td>&lt;=50K</td>\n",
       "    </tr>\n",
       "    <tr>\n",
       "      <th>5</th>\n",
       "      <td>34</td>\n",
       "      <td>Private</td>\n",
       "      <td>216864</td>\n",
       "      <td>HS-grad</td>\n",
       "      <td>9</td>\n",
       "      <td>Divorced</td>\n",
       "      <td>Other-service</td>\n",
       "      <td>Unmarried</td>\n",
       "      <td>White</td>\n",
       "      <td>Female</td>\n",
       "      <td>0</td>\n",
       "      <td>3770</td>\n",
       "      <td>45</td>\n",
       "      <td>United-States</td>\n",
       "      <td>&lt;=50K</td>\n",
       "    </tr>\n",
       "    <tr>\n",
       "      <th>6</th>\n",
       "      <td>38</td>\n",
       "      <td>Private</td>\n",
       "      <td>150601</td>\n",
       "      <td>10th</td>\n",
       "      <td>6</td>\n",
       "      <td>Separated</td>\n",
       "      <td>Adm-clerical</td>\n",
       "      <td>Unmarried</td>\n",
       "      <td>White</td>\n",
       "      <td>Male</td>\n",
       "      <td>0</td>\n",
       "      <td>3770</td>\n",
       "      <td>40</td>\n",
       "      <td>United-States</td>\n",
       "      <td>&lt;=50K</td>\n",
       "    </tr>\n",
       "  </tbody>\n",
       "</table>\n",
       "</div>"
      ],
      "text/plain": [
       "   age work_class  final_weight     education  education_num marital_status  \\\n",
       "1   82    Private        132870       HS-grad              9        Widowed   \n",
       "3   54    Private        140359       7th-8th              4       Divorced   \n",
       "4   41    Private        264663  Some-college             10      Separated   \n",
       "5   34    Private        216864       HS-grad              9       Divorced   \n",
       "6   38    Private        150601          10th              6      Separated   \n",
       "\n",
       "          occupation   relationship   race     sex  capital_gain  \\\n",
       "1    Exec-managerial  Not-in-family  White  Female             0   \n",
       "3  Machine-op-inspct      Unmarried  White  Female             0   \n",
       "4     Prof-specialty      Own-child  White  Female             0   \n",
       "5      Other-service      Unmarried  White  Female             0   \n",
       "6       Adm-clerical      Unmarried  White    Male             0   \n",
       "\n",
       "   capital_loss  hours_per_week native_country income  \n",
       "1          4356              18  United-States  <=50K  \n",
       "3          3900              40  United-States  <=50K  \n",
       "4          3900              40  United-States  <=50K  \n",
       "5          3770              45  United-States  <=50K  \n",
       "6          3770              40  United-States  <=50K  "
      ]
     },
     "execution_count": 852,
     "metadata": {},
     "output_type": "execute_result"
    }
   ],
   "source": [
    "# drop the row duplicates and save the dataset\n",
    "df.drop_duplicates(inplace = True)\n",
    "# check the changes\n",
    "print(df.duplicated().sum())\n",
    "# get 5 rows to have a look on the current dataframe\n",
    "df.head()"
   ]
  },
  {
   "cell_type": "code",
   "execution_count": 853,
   "id": "445f042f",
   "metadata": {},
   "outputs": [
    {
     "data": {
      "text/html": [
       "<div>\n",
       "<style scoped>\n",
       "    .dataframe tbody tr th:only-of-type {\n",
       "        vertical-align: middle;\n",
       "    }\n",
       "\n",
       "    .dataframe tbody tr th {\n",
       "        vertical-align: top;\n",
       "    }\n",
       "\n",
       "    .dataframe thead th {\n",
       "        text-align: right;\n",
       "    }\n",
       "</style>\n",
       "<table border=\"1\" class=\"dataframe\">\n",
       "  <thead>\n",
       "    <tr style=\"text-align: right;\">\n",
       "      <th></th>\n",
       "      <th>age</th>\n",
       "      <th>work_class</th>\n",
       "      <th>final_weight</th>\n",
       "      <th>education</th>\n",
       "      <th>education_num</th>\n",
       "      <th>marital_status</th>\n",
       "      <th>occupation</th>\n",
       "      <th>relationship</th>\n",
       "      <th>race</th>\n",
       "      <th>sex</th>\n",
       "      <th>capital_gain</th>\n",
       "      <th>capital_loss</th>\n",
       "      <th>hours_per_week</th>\n",
       "      <th>native_country</th>\n",
       "      <th>income</th>\n",
       "    </tr>\n",
       "  </thead>\n",
       "  <tbody>\n",
       "    <tr>\n",
       "      <th>0</th>\n",
       "      <td>82</td>\n",
       "      <td>Private</td>\n",
       "      <td>132870</td>\n",
       "      <td>HS-grad</td>\n",
       "      <td>9</td>\n",
       "      <td>Widowed</td>\n",
       "      <td>Exec-managerial</td>\n",
       "      <td>Not-in-family</td>\n",
       "      <td>White</td>\n",
       "      <td>Female</td>\n",
       "      <td>0</td>\n",
       "      <td>4356</td>\n",
       "      <td>18</td>\n",
       "      <td>United-States</td>\n",
       "      <td>&lt;=50K</td>\n",
       "    </tr>\n",
       "    <tr>\n",
       "      <th>1</th>\n",
       "      <td>54</td>\n",
       "      <td>Private</td>\n",
       "      <td>140359</td>\n",
       "      <td>7th-8th</td>\n",
       "      <td>4</td>\n",
       "      <td>Divorced</td>\n",
       "      <td>Machine-op-inspct</td>\n",
       "      <td>Unmarried</td>\n",
       "      <td>White</td>\n",
       "      <td>Female</td>\n",
       "      <td>0</td>\n",
       "      <td>3900</td>\n",
       "      <td>40</td>\n",
       "      <td>United-States</td>\n",
       "      <td>&lt;=50K</td>\n",
       "    </tr>\n",
       "    <tr>\n",
       "      <th>2</th>\n",
       "      <td>41</td>\n",
       "      <td>Private</td>\n",
       "      <td>264663</td>\n",
       "      <td>Some-college</td>\n",
       "      <td>10</td>\n",
       "      <td>Separated</td>\n",
       "      <td>Prof-specialty</td>\n",
       "      <td>Own-child</td>\n",
       "      <td>White</td>\n",
       "      <td>Female</td>\n",
       "      <td>0</td>\n",
       "      <td>3900</td>\n",
       "      <td>40</td>\n",
       "      <td>United-States</td>\n",
       "      <td>&lt;=50K</td>\n",
       "    </tr>\n",
       "    <tr>\n",
       "      <th>3</th>\n",
       "      <td>34</td>\n",
       "      <td>Private</td>\n",
       "      <td>216864</td>\n",
       "      <td>HS-grad</td>\n",
       "      <td>9</td>\n",
       "      <td>Divorced</td>\n",
       "      <td>Other-service</td>\n",
       "      <td>Unmarried</td>\n",
       "      <td>White</td>\n",
       "      <td>Female</td>\n",
       "      <td>0</td>\n",
       "      <td>3770</td>\n",
       "      <td>45</td>\n",
       "      <td>United-States</td>\n",
       "      <td>&lt;=50K</td>\n",
       "    </tr>\n",
       "    <tr>\n",
       "      <th>4</th>\n",
       "      <td>38</td>\n",
       "      <td>Private</td>\n",
       "      <td>150601</td>\n",
       "      <td>10th</td>\n",
       "      <td>6</td>\n",
       "      <td>Separated</td>\n",
       "      <td>Adm-clerical</td>\n",
       "      <td>Unmarried</td>\n",
       "      <td>White</td>\n",
       "      <td>Male</td>\n",
       "      <td>0</td>\n",
       "      <td>3770</td>\n",
       "      <td>40</td>\n",
       "      <td>United-States</td>\n",
       "      <td>&lt;=50K</td>\n",
       "    </tr>\n",
       "  </tbody>\n",
       "</table>\n",
       "</div>"
      ],
      "text/plain": [
       "   age work_class  final_weight     education  education_num marital_status  \\\n",
       "0   82    Private        132870       HS-grad              9        Widowed   \n",
       "1   54    Private        140359       7th-8th              4       Divorced   \n",
       "2   41    Private        264663  Some-college             10      Separated   \n",
       "3   34    Private        216864       HS-grad              9       Divorced   \n",
       "4   38    Private        150601          10th              6      Separated   \n",
       "\n",
       "          occupation   relationship   race     sex  capital_gain  \\\n",
       "0    Exec-managerial  Not-in-family  White  Female             0   \n",
       "1  Machine-op-inspct      Unmarried  White  Female             0   \n",
       "2     Prof-specialty      Own-child  White  Female             0   \n",
       "3      Other-service      Unmarried  White  Female             0   \n",
       "4       Adm-clerical      Unmarried  White    Male             0   \n",
       "\n",
       "   capital_loss  hours_per_week native_country income  \n",
       "0          4356              18  United-States  <=50K  \n",
       "1          3900              40  United-States  <=50K  \n",
       "2          3900              40  United-States  <=50K  \n",
       "3          3770              45  United-States  <=50K  \n",
       "4          3770              40  United-States  <=50K  "
      ]
     },
     "execution_count": 853,
     "metadata": {},
     "output_type": "execute_result"
    }
   ],
   "source": [
    "# reset indexing of rows for avoiding future errors\n",
    "df.reset_index(drop = True, inplace = True)\n",
    "df.head()"
   ]
  },
  {
   "cell_type": "code",
   "execution_count": 854,
   "id": "b57ae14d",
   "metadata": {},
   "outputs": [
    {
     "name": "stdout",
     "output_type": "stream",
     "text": [
      "age                0.528971\n",
      "final_weight       1.460055\n",
      "education_num     -0.302845\n",
      "capital_gain      11.898104\n",
      "capital_loss       4.524409\n",
      "hours_per_week     0.332386\n",
      "dtype: float64\n"
     ]
    }
   ],
   "source": [
    "# find symmetry, asymmetry in the columns\n",
    "# find skewness of continous / numerical columns that will help us further to find outliers\n",
    "skewnessBefore = df.skew(numeric_only = True)\n",
    "print(skewnessBefore)"
   ]
  },
  {
   "cell_type": "code",
   "execution_count": 855,
   "id": "78bddbf3",
   "metadata": {
    "scrolled": false
   },
   "outputs": [
    {
     "data": {
      "image/png": "[encoded data removed]",
      "text/plain": [
       "<Figure size 1440x360 with 2 Axes>"
      ]
     },
     "metadata": {
      "needs_background": "light"
     },
     "output_type": "display_data"
    },
    {
     "data": {
      "image/png": "[encoded data removed]",
      "text/plain": [
       "<Figure size 1440x360 with 2 Axes>"
      ]
     },
     "metadata": {
      "needs_background": "light"
     },
     "output_type": "display_data"
    },
    {
     "data": {
      "image/png": "[encoded data removed]",
      "text/plain": [
       "<Figure size 1440x360 with 1 Axes>"
      ]
     },
     "metadata": {
      "needs_background": "light"
     },
     "output_type": "display_data"
    }
   ],
   "source": [
    "# identifying outliers for age, final_weight, education_num, capital_gain, capital_loss, hours_per_week\n",
    "# using boxplots \n",
    "# from the previous output we deduced that:\n",
    "# age is moderately skewed\n",
    "# final_weight is highly skewed\n",
    "# education_num is fairly symmetrical\n",
    "# capital_gain is highly skewed\n",
    "# capital_loss is highly skewed\n",
    "# hours_per_week is fairly symmetrical\n",
    "\n",
    "# for each column print print a boxplot according to sex category, in this case we want to print 2 boxplots aside\n",
    "# make a function, because we might use it later to check the changes to print at least 2 boxplot, no more than that\n",
    "def plotSkewness(temp_df, cols):\n",
    "    for i in range(0, len(cols), 2):\n",
    "        # the last boxplot does not have anything aside if it is an odd number of plots\n",
    "        if (i != 0 and i == len(cols) - 1 and len(cols) % 2 != 0):\n",
    "            # frame / figure for the last boxplot\n",
    "            fig, ax = plt.subplots(1, 1, figsize = (20, 5))\n",
    "            sns.boxplot(data = temp_df, x = skewedCols[i], y = 'sex')\n",
    "        elif (i >= 0 and i <= len(cols) - 2 and len(cols) >= 2):\n",
    "            # frame / figure for the 4 boxplots printed\n",
    "            fig, ax = plt.subplots(1, 2, figsize = (20, 5))\n",
    "            fig.tight_layout(pad = 5)\n",
    "            # plot the first boxplot\n",
    "            sns.boxplot(data = temp_df, x = cols[i], y = 'sex', ax = ax[0])\n",
    "            # plot the second boxplot next to the previous one\n",
    "            sns.boxplot(data = temp_df, x = cols[i + 1], y = 'sex', ax = ax[1])\n",
    "            \n",
    "skewedCols = ['age', 'final_weight', 'capital_gain', 'capital_loss', 'hours_per_week']\n",
    "plotSkewness(df, skewedCols)"
   ]
  },
  {
   "cell_type": "code",
   "execution_count": 856,
   "id": "9da4dc71",
   "metadata": {},
   "outputs": [
    {
     "data": {
      "image/png": "[encoded data removed]",
      "text/plain": [
       "<Figure size 1440x360 with 2 Axes>"
      ]
     },
     "metadata": {
      "needs_background": "light"
     },
     "output_type": "display_data"
    }
   ],
   "source": [
    "# after having a clear look on the above plots, and we can say that skewness of the cols stated above can be deduced by \n",
    "# finding the exact indices of the outliers using the IQR procedure\n",
    "# of course boxplots helped us (visually) but IQR procedure is the most trustable one / mechanism behind the boxplot\n",
    "\n",
    "# automate the process for the cols specified using a function and a loop to remove them\n",
    "# we'll use it later as well\n",
    "def removeOutliers(temp_df, cols):\n",
    "    for i in cols:\n",
    "        # lower quartile\n",
    "        Q1 = np.percentile(temp_df[i], 25, interpolation = 'midpoint')\n",
    "        # upper quartile\n",
    "        Q3 = np.percentile(temp_df[i], 75, interpolation = 'midpoint')\n",
    "\n",
    "        # calculate the interquartile\n",
    "        IQR = Q3 - Q1\n",
    "\n",
    "        # look for the outliers that are over upper boundary\n",
    "        upper = np.where(temp_df[i] >= (Q3 + 1.5 * IQR))\n",
    "        # look for the outliers that are below the lower boundary\n",
    "        lower = np.where(temp_df[i] <= (Q1 - 1.5 * IQR))\n",
    "\n",
    "        # upper and lower is an array inside of a tuple, just get the array out\n",
    "        upper = upper[0]\n",
    "        lower = lower[0]\n",
    "\n",
    "        # remove outliers using the arrays obtained from above\n",
    "        # drop outliers above upper boundary\n",
    "        df.drop(upper, axis = 0, inplace = True)\n",
    "        \n",
    "        # drop outliers below lower boundary\n",
    "        df.drop(lower, axis = 0, inplace = True)\n",
    "        \n",
    "        # removing rows will change indexing, so reset it each time\n",
    "        df.reset_index(drop = True, inplace = True)\n",
    "        \n",
    "# specify which cols to remove outliers\n",
    "# we'll deal with capital_gain and capital_loss a bit later\n",
    "colsOutliers = ['age', 'final_weight']\n",
    "removeOutliers(df, colsOutliers)\n",
    "# now let's see the changes of the skewness\n",
    "plotSkewness(df, colsOutliers)"
   ]
  },
  {
   "cell_type": "code",
   "execution_count": 857,
   "id": "d2248c4b",
   "metadata": {},
   "outputs": [
    {
     "data": {
      "text/plain": [
       "[Text(0.5, 1.0, 'capital_gain > 0')]"
      ]
     },
     "execution_count": 857,
     "metadata": {},
     "output_type": "execute_result"
    },
    {
     "data": {
      "image/png": "[encoded data removed]",
      "text/plain": [
       "<Figure size 1080x360 with 2 Axes>"
      ]
     },
     "metadata": {
      "needs_background": "light"
     },
     "output_type": "display_data"
    },
    {
     "data": {
      "image/png": "[encoded data removed]",
      "text/plain": [
       "<Figure size 1080x360 with 2 Axes>"
      ]
     },
     "metadata": {
      "needs_background": "light"
     },
     "output_type": "display_data"
    }
   ],
   "source": [
    "# from the previous plots, we can see that now age and final_weight are fairly symmetrical\n",
    "# capital_gain and capital_loss outliers are a different case\n",
    "# our boxplots for these two cols actually show that the interquartile range is 0 meaning that there is no variability\n",
    "# in the middle 50 % but center of distribution can be anywhere\n",
    "\n",
    "# select rows and columns for capital_gain and capital_loss that are not 0\n",
    "capitalGain = df.loc[df['capital_gain'] != 0]\n",
    "capitalLoss = df.loc[df['capital_loss'] != 0] \n",
    " \n",
    "# we want to visualize entries capital_gain and capital_loss values that are 0 and values that are not 0 using \n",
    "# a histogram chart\n",
    "\n",
    "# capital_gain\n",
    "# frame for the hisogram charts  \n",
    "fig, ax = plt.subplots(1, 2, figsize = (15, 5))\n",
    "# increase padding of the figure\n",
    "fig.tight_layout(pad = 5)\n",
    "# plot capital_gain values >= 0\n",
    "sns.histplot(data = df, x = df['capital_gain'], ax = ax[0]).set(title = 'capital_gain >= 0')\n",
    "# plot capital_gain values >= 0 aside to the previous plot\n",
    "sns.histplot(data = capitalGain, x = capitalGain['capital_gain'], ax = ax[1]).set(title = 'capital_gain > 0')\n",
    "\n",
    "# capital_loss\n",
    "# frame for the hisogram charts  \n",
    "fig, ax = plt.subplots(1, 2, figsize = (15, 5))\n",
    "# increase padding of the figure\n",
    "fig.tight_layout(pad = 5)\n",
    "# plot capital_loss values >= 0\n",
    "sns.histplot(data = df, x = df['capital_loss'], ax = ax[0]).set(title = 'capital_loss >= 0')\n",
    "# plot capital_loss values > 0 aside to the previous plot\n",
    "sns.histplot(data = capitalLoss, x = capitalLoss['capital_loss'], ax = ax[1]).set(title = 'capital_gain > 0')"
   ]
  },
  {
   "cell_type": "code",
   "execution_count": 858,
   "id": "af3d76e0",
   "metadata": {},
   "outputs": [
    {
     "name": "stdout",
     "output_type": "stream",
     "text": [
      "capital_gain skewness: 3.437723971273536\n",
      "capital_loss skewness:  -0.27403034368049717\n"
     ]
    }
   ],
   "source": [
    "# obviously, we do not want to delete outliers with value 0, these are true outliers, i.e., we expect people\n",
    "# to have capital_gain and capital_loss equal to 0 in a year\n",
    "# check the skewness of capital_gain and capital_loss for the range of values that are not equal to 0 and print them\n",
    "# these are the ranges where we can look for outliers\n",
    "print(\"capital_gain skewness:\", capitalGain['capital_gain'].skew())\n",
    "print(\"capital_loss skewness: \", capitalLoss['capital_loss'].skew())"
   ]
  },
  {
   "cell_type": "code",
   "execution_count": 859,
   "id": "994a724c",
   "metadata": {},
   "outputs": [
    {
     "data": {
      "text/plain": [
       "<AxesSubplot:xlabel='capital_loss', ylabel='sex'>"
      ]
     },
     "execution_count": 859,
     "metadata": {},
     "output_type": "execute_result"
    },
    {
     "data": {
      "image/png": "[encoded data removed]",
      "text/plain": [
       "<Figure size 1080x360 with 2 Axes>"
      ]
     },
     "metadata": {
      "needs_background": "light"
     },
     "output_type": "display_data"
    }
   ],
   "source": [
    "# as we can see from the from the histograms above of capital_gain and capital_loss\n",
    "# the number of variable counts that have a value not equal to 0 is really low relatively to the variables \n",
    "# that have a value of 0 (almost the entire dataset)\n",
    "# no wonder the IQR range of the boxplots of these two columns is 0, i.e., both have more than 50% of values equal to 0\n",
    "\n",
    "# let's boxplot these two columns\n",
    "# frame for the boxplots of capital_gain and capital_loss\n",
    "fig, ax = plt.subplots(1, 2, figsize = (15, 5))\n",
    "fig.tight_layout(pad = 5)\n",
    "# plot capital_gain\n",
    "sns.boxplot(data = capitalGain, x = df['capital_gain'], y = capitalGain['sex'], ax = ax[0])\n",
    "# plot capital_loss next to previous plot\n",
    "sns.boxplot(data = capitalLoss, x = df['capital_loss'], y = capitalLoss['sex'], ax = ax[1])"
   ]
  },
  {
   "cell_type": "code",
   "execution_count": 860,
   "id": "61578056",
   "metadata": {},
   "outputs": [],
   "source": [
    "# we do not want to modify capital_loss because is fairly symmetrical but for capital_gain we se that the outliers is\n",
    "# capital_gain is >= 999999 so we remove them \n",
    "dropRows = np.where(df['capital_gain'] >= 99999)\n",
    "df.drop(dropRows[0], inplace = True)"
   ]
  },
  {
   "cell_type": "code",
   "execution_count": 861,
   "id": "c0c6033e",
   "metadata": {},
   "outputs": [
    {
     "name": "stdout",
     "output_type": "stream",
     "text": [
      "age               0.406937\n",
      "final_weight      0.413253\n",
      "education_num    -0.294730\n",
      "capital_gain      5.717926\n",
      "capital_loss      4.467263\n",
      "hours_per_week    0.352044\n",
      "dtype: float64\n"
     ]
    }
   ],
   "source": [
    "# after\n",
    "skewnessAfter = df.skew(numeric_only = True)\n",
    "print(skewnessAfter)"
   ]
  },
  {
   "cell_type": "code",
   "execution_count": 862,
   "id": "a72ae6a3",
   "metadata": {},
   "outputs": [
    {
     "data": {
      "text/plain": [
       "[Text(0.5, 1.0, 'Skewness after')]"
      ]
     },
     "execution_count": 862,
     "metadata": {},
     "output_type": "execute_result"
    },
    {
     "data": {
      "image/png": "[encoded data removed]",
      "text/plain": [
       "<Figure size 1080x360 with 2 Axes>"
      ]
     },
     "metadata": {
      "needs_background": "light"
     },
     "output_type": "display_data"
    }
   ],
   "source": [
    "# let's compare the skewness before and after removing the outliers\n",
    "# convert the skewness pandas arrays to dictionaries\n",
    "dict_skewnessBefore = dict(skewnessBefore)\n",
    "dict_skewnessAfter = dict(skewnessAfter)\n",
    "\n",
    "# convert dictionaries' key and values to lists\n",
    "keysBefore = list(dict_skewnessBefore.keys())\n",
    "valsBefore = list(dict_skewnessBefore.values())\n",
    "\n",
    "keysAfter = list(dict_skewnessAfter.keys())\n",
    "valsAfter = list(dict_skewnessAfter.values())\n",
    "\n",
    "# barplot them\n",
    "fig, ax = plt.subplots(1, 2, figsize = (15, 5))\n",
    "fig.tight_layout(pad = 5)\n",
    "sns.barplot(x = keysBefore, y = valsBefore, ax = ax[0]).set(title = 'Skewness before')\n",
    "sns.barplot(x = keysAfter, y = valsAfter, ax = ax[1]).set(title = 'Skewness after')"
   ]
  },
  {
   "cell_type": "code",
   "execution_count": 863,
   "id": "925a65d5",
   "metadata": {},
   "outputs": [
    {
     "name": "stdout",
     "output_type": "stream",
     "text": [
      "9\n"
     ]
    }
   ],
   "source": [
    "# convert categorical variables to indicator variables stage\n",
    "l = list(df.select_dtypes(include = object))\n",
    "print(len(l))"
   ]
  },
  {
   "cell_type": "code",
   "execution_count": 864,
   "id": "8ba15d79",
   "metadata": {},
   "outputs": [
    {
     "name": "stdout",
     "output_type": "stream",
     "text": [
      "['work_class', 'education', 'marital_status', 'occupation', 'relationship', 'race', 'sex', 'native_country', 'income']\n"
     ]
    }
   ],
   "source": [
    "# we have 9 string objects\n",
    "print(l)"
   ]
  },
  {
   "cell_type": "code",
   "execution_count": 865,
   "id": "8ad3fc1a",
   "metadata": {
    "scrolled": true
   },
   "outputs": [
    {
     "data": {
      "text/html": [
       "<div>\n",
       "<style scoped>\n",
       "    .dataframe tbody tr th:only-of-type {\n",
       "        vertical-align: middle;\n",
       "    }\n",
       "\n",
       "    .dataframe tbody tr th {\n",
       "        vertical-align: top;\n",
       "    }\n",
       "\n",
       "    .dataframe thead th {\n",
       "        text-align: right;\n",
       "    }\n",
       "</style>\n",
       "<table border=\"1\" class=\"dataframe\">\n",
       "  <thead>\n",
       "    <tr style=\"text-align: right;\">\n",
       "      <th></th>\n",
       "      <th>age</th>\n",
       "      <th>work_class</th>\n",
       "      <th>final_weight</th>\n",
       "      <th>education</th>\n",
       "      <th>education_num</th>\n",
       "      <th>marital_status</th>\n",
       "      <th>occupation</th>\n",
       "      <th>relationship</th>\n",
       "      <th>race</th>\n",
       "      <th>sex</th>\n",
       "      <th>capital_gain</th>\n",
       "      <th>capital_loss</th>\n",
       "      <th>hours_per_week</th>\n",
       "      <th>native_country</th>\n",
       "      <th>income</th>\n",
       "    </tr>\n",
       "  </thead>\n",
       "  <tbody>\n",
       "    <tr>\n",
       "      <th>0</th>\n",
       "      <td>54</td>\n",
       "      <td>Private</td>\n",
       "      <td>140359</td>\n",
       "      <td>7th-8th</td>\n",
       "      <td>4</td>\n",
       "      <td>Divorced</td>\n",
       "      <td>Machine-op-inspct</td>\n",
       "      <td>Unmarried</td>\n",
       "      <td>White</td>\n",
       "      <td>Female</td>\n",
       "      <td>0</td>\n",
       "      <td>3900</td>\n",
       "      <td>40</td>\n",
       "      <td>United-States</td>\n",
       "      <td>&lt;=50K</td>\n",
       "    </tr>\n",
       "    <tr>\n",
       "      <th>1</th>\n",
       "      <td>41</td>\n",
       "      <td>Private</td>\n",
       "      <td>264663</td>\n",
       "      <td>Some-college</td>\n",
       "      <td>10</td>\n",
       "      <td>Separated</td>\n",
       "      <td>Prof-specialty</td>\n",
       "      <td>Own-child</td>\n",
       "      <td>White</td>\n",
       "      <td>Female</td>\n",
       "      <td>0</td>\n",
       "      <td>3900</td>\n",
       "      <td>40</td>\n",
       "      <td>United-States</td>\n",
       "      <td>&lt;=50K</td>\n",
       "    </tr>\n",
       "    <tr>\n",
       "      <th>2</th>\n",
       "      <td>34</td>\n",
       "      <td>Private</td>\n",
       "      <td>216864</td>\n",
       "      <td>HS-grad</td>\n",
       "      <td>9</td>\n",
       "      <td>Divorced</td>\n",
       "      <td>Other-service</td>\n",
       "      <td>Unmarried</td>\n",
       "      <td>White</td>\n",
       "      <td>Female</td>\n",
       "      <td>0</td>\n",
       "      <td>3770</td>\n",
       "      <td>45</td>\n",
       "      <td>United-States</td>\n",
       "      <td>&lt;=50K</td>\n",
       "    </tr>\n",
       "    <tr>\n",
       "      <th>3</th>\n",
       "      <td>38</td>\n",
       "      <td>Private</td>\n",
       "      <td>150601</td>\n",
       "      <td>10th</td>\n",
       "      <td>6</td>\n",
       "      <td>Separated</td>\n",
       "      <td>Adm-clerical</td>\n",
       "      <td>Unmarried</td>\n",
       "      <td>White</td>\n",
       "      <td>Male</td>\n",
       "      <td>0</td>\n",
       "      <td>3770</td>\n",
       "      <td>40</td>\n",
       "      <td>United-States</td>\n",
       "      <td>&lt;=50K</td>\n",
       "    </tr>\n",
       "    <tr>\n",
       "      <th>4</th>\n",
       "      <td>74</td>\n",
       "      <td>State-gov</td>\n",
       "      <td>88638</td>\n",
       "      <td>Doctorate</td>\n",
       "      <td>16</td>\n",
       "      <td>Never-married</td>\n",
       "      <td>Prof-specialty</td>\n",
       "      <td>Other-relative</td>\n",
       "      <td>White</td>\n",
       "      <td>Female</td>\n",
       "      <td>0</td>\n",
       "      <td>3683</td>\n",
       "      <td>20</td>\n",
       "      <td>United-States</td>\n",
       "      <td>&gt;50K</td>\n",
       "    </tr>\n",
       "  </tbody>\n",
       "</table>\n",
       "</div>"
      ],
      "text/plain": [
       "   age work_class  final_weight     education  education_num marital_status  \\\n",
       "0   54    Private        140359       7th-8th              4       Divorced   \n",
       "1   41    Private        264663  Some-college             10      Separated   \n",
       "2   34    Private        216864       HS-grad              9       Divorced   \n",
       "3   38    Private        150601          10th              6      Separated   \n",
       "4   74  State-gov         88638     Doctorate             16  Never-married   \n",
       "\n",
       "          occupation    relationship   race     sex  capital_gain  \\\n",
       "0  Machine-op-inspct       Unmarried  White  Female             0   \n",
       "1     Prof-specialty       Own-child  White  Female             0   \n",
       "2      Other-service       Unmarried  White  Female             0   \n",
       "3       Adm-clerical       Unmarried  White    Male             0   \n",
       "4     Prof-specialty  Other-relative  White  Female             0   \n",
       "\n",
       "   capital_loss  hours_per_week native_country income  \n",
       "0          3900              40  United-States  <=50K  \n",
       "1          3900              40  United-States  <=50K  \n",
       "2          3770              45  United-States  <=50K  \n",
       "3          3770              40  United-States  <=50K  \n",
       "4          3683              20  United-States   >50K  "
      ]
     },
     "execution_count": 865,
     "metadata": {},
     "output_type": "execute_result"
    }
   ],
   "source": [
    "# let's have a look ...\n",
    "df.head()"
   ]
  },
  {
   "cell_type": "code",
   "execution_count": 866,
   "id": "b6a79718",
   "metadata": {},
   "outputs": [],
   "source": [
    "# each categorical class has at least >= 2 levels, which method to use for converting?\n",
    "# education column is ordinal which would need to be encoded\n",
    "# education-num is the equivalent of education, i.e., the highest level of education achieved represented in numerical form\n",
    "# so we just drop education column\n",
    "df.drop(['education'], axis = 1, inplace = True)\n",
    "\n",
    "# remove the categorical cols\n",
    "# using one hot encoding\n",
    "# select all nominal columns for encoding \n",
    "df_nominal = df[nominal_cols]\n",
    "# format the encoding output as a matrix, and drop the the first level of a categorical variable if it is binary, e.g. sex\n",
    "encoder = OneHotEncoder(drop = 'if_binary', dtype = int, handle_unknown = 'ignore')\n",
    "# transform the selected column to numerical\n",
    "df_nominal = encoder.fit_transform(df_nominal).toarray()\n",
    "# convert it back to a dataframe\n",
    "df_nominal = pd.DataFrame(df_nominal)\n",
    "\n",
    "# drop the categorical columns that have been encoded\n",
    "df.drop(nominal_cols, axis = 1, inplace = True)\n",
    "\n",
    "# concatenate the original dataframe with the one that contains the encoded categorical variables and keep the data types \n",
    "# preserved\n",
    "df = pd.concat([df, df_nominal], axis = 1, join = 'inner')"
   ]
  },
  {
   "cell_type": "code",
   "execution_count": 867,
   "id": "16f65709",
   "metadata": {
    "scrolled": true
   },
   "outputs": [
    {
     "data": {
      "text/html": [
       "<div>\n",
       "<style scoped>\n",
       "    .dataframe tbody tr th:only-of-type {\n",
       "        vertical-align: middle;\n",
       "    }\n",
       "\n",
       "    .dataframe tbody tr th {\n",
       "        vertical-align: top;\n",
       "    }\n",
       "\n",
       "    .dataframe thead th {\n",
       "        text-align: right;\n",
       "    }\n",
       "</style>\n",
       "<table border=\"1\" class=\"dataframe\">\n",
       "  <thead>\n",
       "    <tr style=\"text-align: right;\">\n",
       "      <th></th>\n",
       "      <th>age</th>\n",
       "      <th>final_weight</th>\n",
       "      <th>education_num</th>\n",
       "      <th>capital_gain</th>\n",
       "      <th>capital_loss</th>\n",
       "      <th>hours_per_week</th>\n",
       "      <th>0</th>\n",
       "      <th>1</th>\n",
       "      <th>2</th>\n",
       "      <th>3</th>\n",
       "      <th>...</th>\n",
       "      <th>72</th>\n",
       "      <th>73</th>\n",
       "      <th>74</th>\n",
       "      <th>75</th>\n",
       "      <th>76</th>\n",
       "      <th>77</th>\n",
       "      <th>78</th>\n",
       "      <th>79</th>\n",
       "      <th>80</th>\n",
       "      <th>81</th>\n",
       "    </tr>\n",
       "  </thead>\n",
       "  <tbody>\n",
       "    <tr>\n",
       "      <th>0</th>\n",
       "      <td>54</td>\n",
       "      <td>140359</td>\n",
       "      <td>4</td>\n",
       "      <td>0</td>\n",
       "      <td>3900</td>\n",
       "      <td>40</td>\n",
       "      <td>0</td>\n",
       "      <td>0</td>\n",
       "      <td>1</td>\n",
       "      <td>0</td>\n",
       "      <td>...</td>\n",
       "      <td>0</td>\n",
       "      <td>0</td>\n",
       "      <td>0</td>\n",
       "      <td>0</td>\n",
       "      <td>0</td>\n",
       "      <td>0</td>\n",
       "      <td>1</td>\n",
       "      <td>0</td>\n",
       "      <td>0</td>\n",
       "      <td>0</td>\n",
       "    </tr>\n",
       "    <tr>\n",
       "      <th>1</th>\n",
       "      <td>41</td>\n",
       "      <td>264663</td>\n",
       "      <td>10</td>\n",
       "      <td>0</td>\n",
       "      <td>3900</td>\n",
       "      <td>40</td>\n",
       "      <td>0</td>\n",
       "      <td>0</td>\n",
       "      <td>1</td>\n",
       "      <td>0</td>\n",
       "      <td>...</td>\n",
       "      <td>0</td>\n",
       "      <td>0</td>\n",
       "      <td>0</td>\n",
       "      <td>0</td>\n",
       "      <td>0</td>\n",
       "      <td>0</td>\n",
       "      <td>1</td>\n",
       "      <td>0</td>\n",
       "      <td>0</td>\n",
       "      <td>0</td>\n",
       "    </tr>\n",
       "    <tr>\n",
       "      <th>2</th>\n",
       "      <td>34</td>\n",
       "      <td>216864</td>\n",
       "      <td>9</td>\n",
       "      <td>0</td>\n",
       "      <td>3770</td>\n",
       "      <td>45</td>\n",
       "      <td>0</td>\n",
       "      <td>0</td>\n",
       "      <td>1</td>\n",
       "      <td>0</td>\n",
       "      <td>...</td>\n",
       "      <td>0</td>\n",
       "      <td>0</td>\n",
       "      <td>0</td>\n",
       "      <td>0</td>\n",
       "      <td>0</td>\n",
       "      <td>0</td>\n",
       "      <td>1</td>\n",
       "      <td>0</td>\n",
       "      <td>0</td>\n",
       "      <td>0</td>\n",
       "    </tr>\n",
       "    <tr>\n",
       "      <th>3</th>\n",
       "      <td>38</td>\n",
       "      <td>150601</td>\n",
       "      <td>6</td>\n",
       "      <td>0</td>\n",
       "      <td>3770</td>\n",
       "      <td>40</td>\n",
       "      <td>0</td>\n",
       "      <td>0</td>\n",
       "      <td>1</td>\n",
       "      <td>0</td>\n",
       "      <td>...</td>\n",
       "      <td>0</td>\n",
       "      <td>0</td>\n",
       "      <td>0</td>\n",
       "      <td>0</td>\n",
       "      <td>0</td>\n",
       "      <td>0</td>\n",
       "      <td>1</td>\n",
       "      <td>0</td>\n",
       "      <td>0</td>\n",
       "      <td>0</td>\n",
       "    </tr>\n",
       "    <tr>\n",
       "      <th>4</th>\n",
       "      <td>74</td>\n",
       "      <td>88638</td>\n",
       "      <td>16</td>\n",
       "      <td>0</td>\n",
       "      <td>3683</td>\n",
       "      <td>20</td>\n",
       "      <td>0</td>\n",
       "      <td>0</td>\n",
       "      <td>0</td>\n",
       "      <td>0</td>\n",
       "      <td>...</td>\n",
       "      <td>0</td>\n",
       "      <td>0</td>\n",
       "      <td>0</td>\n",
       "      <td>0</td>\n",
       "      <td>0</td>\n",
       "      <td>0</td>\n",
       "      <td>1</td>\n",
       "      <td>0</td>\n",
       "      <td>0</td>\n",
       "      <td>1</td>\n",
       "    </tr>\n",
       "  </tbody>\n",
       "</table>\n",
       "<p>5 rows × 88 columns</p>\n",
       "</div>"
      ],
      "text/plain": [
       "   age  final_weight  education_num  capital_gain  capital_loss  \\\n",
       "0   54        140359              4             0          3900   \n",
       "1   41        264663             10             0          3900   \n",
       "2   34        216864              9             0          3770   \n",
       "3   38        150601              6             0          3770   \n",
       "4   74         88638             16             0          3683   \n",
       "\n",
       "   hours_per_week  0  1  2  3  ...  72  73  74  75  76  77  78  79  80  81  \n",
       "0              40  0  0  1  0  ...   0   0   0   0   0   0   1   0   0   0  \n",
       "1              40  0  0  1  0  ...   0   0   0   0   0   0   1   0   0   0  \n",
       "2              45  0  0  1  0  ...   0   0   0   0   0   0   1   0   0   0  \n",
       "3              40  0  0  1  0  ...   0   0   0   0   0   0   1   0   0   0  \n",
       "4              20  0  0  0  0  ...   0   0   0   0   0   0   1   0   0   1  \n",
       "\n",
       "[5 rows x 88 columns]"
      ]
     },
     "execution_count": 867,
     "metadata": {},
     "output_type": "execute_result"
    }
   ],
   "source": [
    "# let's see the outcome\n",
    "df.head()"
   ]
  },
  {
   "cell_type": "code",
   "execution_count": 868,
   "id": "716ca603",
   "metadata": {},
   "outputs": [
    {
     "data": {
      "text/plain": [
       "<AxesSubplot:>"
      ]
     },
     "execution_count": 868,
     "metadata": {},
     "output_type": "execute_result"
    },
    {
     "data": {
      "image/png": "[encoded data removed]",
      "text/plain": [
       "<Figure size 648x432 with 2 Axes>"
      ]
     },
     "metadata": {
      "needs_background": "light"
     },
     "output_type": "display_data"
    }
   ],
   "source": [
    "################################################## VISUALIZATION ###############################################################\n",
    "# let's check the correlation between columns, and use a heatmap to visualize the volume of locations in a dataset\n",
    "# it will help us to decide which areas to visualize that matter most\n",
    "# we don't want to plot the coli\n",
    "df_cp = df[['age', 'final_weight', 'education_num', 'capital_gain', 'capital_loss', 'hours_per_week', 81]] \n",
    "corr_matrix = df_cp.corr()\n",
    "\n",
    "# plot a heatmap of the dataframe\n",
    "fig, ax = plt.subplots(figsize = (9, 6))\n",
    "sns.heatmap(corr_matrix, annot = True, linewidths = .5, ax = ax)"
   ]
  },
  {
   "cell_type": "code",
   "execution_count": 869,
   "id": "0695874b",
   "metadata": {},
   "outputs": [
    {
     "data": {
      "text/plain": [
       "[Text(0.5, 1.0, 'income <= 50K')]"
      ]
     },
     "execution_count": 869,
     "metadata": {},
     "output_type": "execute_result"
    },
    {
     "data": {
      "image/png": "[encoded data removed]",
      "text/plain": [
       "<Figure size 1080x360 with 2 Axes>"
      ]
     },
     "metadata": {
      "needs_background": "light"
     },
     "output_type": "display_data"
    }
   ],
   "source": [
    "# we can see that in the above heatmap we have a weak relationship between the columns, i.e., we don't have multi(colinearity)\n",
    "# for obvious reasons, we don't want to plot all the encoded categorical columns, this will lead to multicolinearity\n",
    "# but we can pick in particular one, e.g. 81 column which is the encoded binary income column\n",
    "\n",
    "# count no of people with income <= 50k or > 50k\n",
    "incomeBelow_50k = df[df[81] == 0]\n",
    "incomeAbove_50k = df[df[81] == 1]\n",
    "\n",
    "# now let's barplot the number of people that have income > 50k and those <= 50k by age\n",
    "fig, ax = plt.subplots(1, 2, figsize = (15, 5))\n",
    "# increase padding of the figure\n",
    "fig.tight_layout(pad = 5)\n",
    "# plot capital_loss values >= 0\n",
    "sns.histplot(data = incomeBelow_50k, x = incomeBelow_50k['age'],  ax = ax[0]).set(title = 'income > 50k')\n",
    "# plot capital_loss values > 0 aside to the previous plot\n",
    "sns.histplot(data = incomeAbove_50k, x = capitalLoss['age'], ax = ax[1]).set(title = 'income <= 50K')"
   ]
  },
  {
   "cell_type": "code",
   "execution_count": 870,
   "id": "2235affd",
   "metadata": {},
   "outputs": [
    {
     "data": {
      "text/plain": [
       "age               0.406730\n",
       "final_weight      0.413915\n",
       "education_num    -0.293204\n",
       "capital_gain      5.702800\n",
       "capital_loss      4.454689\n",
       "                   ...    \n",
       "77               41.118198\n",
       "78               -2.958146\n",
       "79               21.139833\n",
       "80               43.778232\n",
       "81                1.198264\n",
       "Length: 88, dtype: float64"
      ]
     },
     "execution_count": 870,
     "metadata": {},
     "output_type": "execute_result"
    }
   ],
   "source": [
    "# the above and below outputs show that the dataset is moderately skewed relatively to the income\n",
    "df.skew()"
   ]
  },
  {
   "cell_type": "code",
   "execution_count": 878,
   "id": "e2514131",
   "metadata": {
    "scrolled": true
   },
   "outputs": [],
   "source": [
    "#################################### Creating the model, training, testing, and predicting #####################################\n",
    "\n",
    "# select indepent columns for x, and for y, the dependent column, the income\n",
    "# so we want to predict the income, if people earn over 50k or not\n",
    "X = df.iloc[1:, :-1].values\n",
    "y = df.iloc[1:, -1].values\n",
    "\n",
    "# split the dataset into training set (75%) and testing set (25%), and give same result if running again, i.e. random state\n",
    "X_train, X_test, y_train, y_test = train_test_split(X, y, train_size = 75, test_size = 25, random_state = 0)\n",
    "\n",
    "# creating the models, training, and testing them (prediction)\n",
    "# Logistic Regression : Using multinomial (we have 2 levels for y) for multi-class clasification \n",
    "# uses cross-entropy loss function\n",
    "lr = LogisticRegression(multi_class = \"multinomial\", random_state = 0, max_iter = 159)\n",
    "# fit the training set onto the model\n",
    "lr.fit(X_train, y_train)\n",
    "# predict with the training set itself / data seen\n",
    "y_train_pred_lr = lr.predict(X_train) \n",
    "# predict with the testing set / unseen data\n",
    "y_test_pred_lr = lr.predict(X_test)\n",
    "\n",
    "# SVC : Support Vector Classification\n",
    "svc = SVC(random_state = 0)\n",
    "svc.fit(X_train, y_train)\n",
    "y_train_pred_svc = svc.predict(X_train)\n",
    "y_test_pred_svc = svc.predict(X_test)\n",
    "\n",
    "# K-NN : K Nearest\n",
    "knn = KNeighborsClassifier(n_neighbors = 9)\n",
    "knn.fit(X_train, y_train)\n",
    "y_train_pred_knn = knn.predict(X_train)\n",
    "y_test_pred_knn = knn.predict(X_test)\n",
    "\n",
    "# Evaluating the models\n",
    "#print(\"Training accuracy:\")\n",
    "#print(classification_report(y_train, y_train_pred_lr))\n",
    "#print(confusion_matrix(y_train, y_train_pred_lr))\n",
    "#print(\"Testing accuracy:\")\n",
    "#print(classification_report(y_test, y_test_pred_lr))\n",
    "#print(confusion_matrix(y_test, y_test_pred_lr))\n",
    "#\n",
    "#lr.score(X_test, y_test)\n",
    "#svc.score(X_test, y_test)\n",
    "#knn.score(X_test, y_test)"
   ]
  },
  {
   "cell_type": "code",
   "execution_count": null,
   "id": "3e4504dc",
   "metadata": {},
   "outputs": [],
   "source": []
  }
 ],
 "metadata": {
  "kernelspec": {
   "display_name": "Python 3 (ipykernel)",
   "language": "python",
   "name": "python3"
  },
  "language_info": {
   "codemirror_mode": {
    "name": "ipython",
    "version": 3
   },
   "file_extension": ".py",
   "mimetype": "text/x-python",
   "name": "python",
   "nbconvert_exporter": "python",
   "pygments_lexer": "ipython3",
   "version": "3.9.12"
  }
 },
 "nbformat": 4,
 "nbformat_minor": 5
}
