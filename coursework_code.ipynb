{
 "cells": [
  {
   "cell_type": "code",
   "execution_count": 4,
   "id": "5d43c600",
   "metadata": {},
   "outputs": [],
   "source": [
    "# libraries needed for data analysis, pre-processing, visualization\n",
    "import pandas as pd\n",
    "import numpy as np\n",
    "import matplotlib.pyplot as plt\n",
    "import seaborn as sns\n",
    "# output plots right below the cell input command\n",
    "%matplotlib inline \n",
    "# standarization and normalization might be needed, and convertor needed for categorical variables \n",
    "from sklearn.preprocessing import StandardScaler, MinMaxScaler, Normalizer, OneHotEncoder\n",
    "# libraries needed for training, testing, building the model, and prediction\n",
    "from sklearn.model_selection import train_test_split\n",
    "# libraries needed for cross validation procedure\n",
    "from sklearn.model_selection import cross_validate\n",
    "from sklearn.model_selection import RepeatedStratifiedKFold\n",
    "# libraries for the chosen algorithms\n",
    "from sklearn.linear_model import LogisticRegression\n",
    "from sklearn.neighbors import KNeighborsClassifier\n",
    "# libraries needed for model tuning\n",
    "from sklearn.model_selection import GridSearchCV\n",
    "# libraries needed for evaluation - metrics\n",
    "from sklearn.metrics import accuracy_score, classification_report, confusion_matrix\n",
    "# use for detecting multicolinearity\n",
    "from statsmodels.stats.outliers_influence import variance_inflation_factor\n",
    "from statistics import mean"
   ]
  },
  {
   "cell_type": "code",
   "execution_count": 6,
   "id": "0cfd159f",
   "metadata": {},
   "outputs": [
    {
     "data": {
      "text/plain": [
       "(32561, 15)"
      ]
     },
     "execution_count": 6,
     "metadata": {},
     "output_type": "execute_result"
    }
   ],
   "source": [
    "############################################# Data collection #################################################################\n",
    "# read the csv file and create a dataframe\n",
    "\n",
    "# overriding column names to a more conventional, understandable one\n",
    "cols = ['age', 'work_class', 'final_weight', 'education', 'education_num', 'marital_status', 'occupation', 'relationship', \n",
    "        'race', 'sex', 'capital_gain', 'capital_loss', 'hours_per_week', 'native_country', 'income']\n",
    "# read the csv file as a dataset\n",
    "df = pd.read_csv(\"adult.csv\", header = 0, names = cols)\n",
    "# print the shape of the dataset rows x cols\n",
    "df.shape"
   ]
  },
  {
   "cell_type": "code",
   "execution_count": 7,
   "id": "e4f42cc4",
   "metadata": {},
   "outputs": [
    {
     "name": "stdout",
     "output_type": "stream",
     "text": [
      "<class 'pandas.core.frame.DataFrame'>\n",
      "RangeIndex: 32561 entries, 0 to 32560\n",
      "Data columns (total 15 columns):\n",
      " #   Column          Non-Null Count  Dtype \n",
      "---  ------          --------------  ----- \n",
      " 0   age             32561 non-null  int64 \n",
      " 1   work_class      32561 non-null  object\n",
      " 2   final_weight    32561 non-null  int64 \n",
      " 3   education       32561 non-null  object\n",
      " 4   education_num   32561 non-null  int64 \n",
      " 5   marital_status  32561 non-null  object\n",
      " 6   occupation      32561 non-null  object\n",
      " 7   relationship    32561 non-null  object\n",
      " 8   race            32561 non-null  object\n",
      " 9   sex             32561 non-null  object\n",
      " 10  capital_gain    32561 non-null  int64 \n",
      " 11  capital_loss    32561 non-null  int64 \n",
      " 12  hours_per_week  32561 non-null  int64 \n",
      " 13  native_country  32561 non-null  object\n",
      " 14  income          32561 non-null  object\n",
      "dtypes: int64(6), object(9)\n",
      "memory usage: 3.7+ MB\n"
     ]
    },
    {
     "data": {
      "text/html": [
       "<div>\n",
       "<style scoped>\n",
       "    .dataframe tbody tr th:only-of-type {\n",
       "        vertical-align: middle;\n",
       "    }\n",
       "\n",
       "    .dataframe tbody tr th {\n",
       "        vertical-align: top;\n",
       "    }\n",
       "\n",
       "    .dataframe thead th {\n",
       "        text-align: right;\n",
       "    }\n",
       "</style>\n",
       "<table border=\"1\" class=\"dataframe\">\n",
       "  <thead>\n",
       "    <tr style=\"text-align: right;\">\n",
       "      <th></th>\n",
       "      <th>age</th>\n",
       "      <th>work_class</th>\n",
       "      <th>final_weight</th>\n",
       "      <th>education</th>\n",
       "      <th>education_num</th>\n",
       "      <th>marital_status</th>\n",
       "      <th>occupation</th>\n",
       "      <th>relationship</th>\n",
       "      <th>race</th>\n",
       "      <th>sex</th>\n",
       "      <th>capital_gain</th>\n",
       "      <th>capital_loss</th>\n",
       "      <th>hours_per_week</th>\n",
       "      <th>native_country</th>\n",
       "      <th>income</th>\n",
       "    </tr>\n",
       "  </thead>\n",
       "  <tbody>\n",
       "    <tr>\n",
       "      <th>0</th>\n",
       "      <td>90</td>\n",
       "      <td>?</td>\n",
       "      <td>77053</td>\n",
       "      <td>HS-grad</td>\n",
       "      <td>9</td>\n",
       "      <td>Widowed</td>\n",
       "      <td>?</td>\n",
       "      <td>Not-in-family</td>\n",
       "      <td>White</td>\n",
       "      <td>Female</td>\n",
       "      <td>0</td>\n",
       "      <td>4356</td>\n",
       "      <td>40</td>\n",
       "      <td>United-States</td>\n",
       "      <td>&lt;=50K</td>\n",
       "    </tr>\n",
       "    <tr>\n",
       "      <th>1</th>\n",
       "      <td>82</td>\n",
       "      <td>Private</td>\n",
       "      <td>132870</td>\n",
       "      <td>HS-grad</td>\n",
       "      <td>9</td>\n",
       "      <td>Widowed</td>\n",
       "      <td>Exec-managerial</td>\n",
       "      <td>Not-in-family</td>\n",
       "      <td>White</td>\n",
       "      <td>Female</td>\n",
       "      <td>0</td>\n",
       "      <td>4356</td>\n",
       "      <td>18</td>\n",
       "      <td>United-States</td>\n",
       "      <td>&lt;=50K</td>\n",
       "    </tr>\n",
       "    <tr>\n",
       "      <th>2</th>\n",
       "      <td>66</td>\n",
       "      <td>?</td>\n",
       "      <td>186061</td>\n",
       "      <td>Some-college</td>\n",
       "      <td>10</td>\n",
       "      <td>Widowed</td>\n",
       "      <td>?</td>\n",
       "      <td>Unmarried</td>\n",
       "      <td>Black</td>\n",
       "      <td>Female</td>\n",
       "      <td>0</td>\n",
       "      <td>4356</td>\n",
       "      <td>40</td>\n",
       "      <td>United-States</td>\n",
       "      <td>&lt;=50K</td>\n",
       "    </tr>\n",
       "    <tr>\n",
       "      <th>3</th>\n",
       "      <td>54</td>\n",
       "      <td>Private</td>\n",
       "      <td>140359</td>\n",
       "      <td>7th-8th</td>\n",
       "      <td>4</td>\n",
       "      <td>Divorced</td>\n",
       "      <td>Machine-op-inspct</td>\n",
       "      <td>Unmarried</td>\n",
       "      <td>White</td>\n",
       "      <td>Female</td>\n",
       "      <td>0</td>\n",
       "      <td>3900</td>\n",
       "      <td>40</td>\n",
       "      <td>United-States</td>\n",
       "      <td>&lt;=50K</td>\n",
       "    </tr>\n",
       "    <tr>\n",
       "      <th>4</th>\n",
       "      <td>41</td>\n",
       "      <td>Private</td>\n",
       "      <td>264663</td>\n",
       "      <td>Some-college</td>\n",
       "      <td>10</td>\n",
       "      <td>Separated</td>\n",
       "      <td>Prof-specialty</td>\n",
       "      <td>Own-child</td>\n",
       "      <td>White</td>\n",
       "      <td>Female</td>\n",
       "      <td>0</td>\n",
       "      <td>3900</td>\n",
       "      <td>40</td>\n",
       "      <td>United-States</td>\n",
       "      <td>&lt;=50K</td>\n",
       "    </tr>\n",
       "  </tbody>\n",
       "</table>\n",
       "</div>"
      ],
      "text/plain": [
       "   age work_class  final_weight     education  education_num marital_status  \\\n",
       "0   90          ?         77053       HS-grad              9        Widowed   \n",
       "1   82    Private        132870       HS-grad              9        Widowed   \n",
       "2   66          ?        186061  Some-college             10        Widowed   \n",
       "3   54    Private        140359       7th-8th              4       Divorced   \n",
       "4   41    Private        264663  Some-college             10      Separated   \n",
       "\n",
       "          occupation   relationship   race     sex  capital_gain  \\\n",
       "0                  ?  Not-in-family  White  Female             0   \n",
       "1    Exec-managerial  Not-in-family  White  Female             0   \n",
       "2                  ?      Unmarried  Black  Female             0   \n",
       "3  Machine-op-inspct      Unmarried  White  Female             0   \n",
       "4     Prof-specialty      Own-child  White  Female             0   \n",
       "\n",
       "   capital_loss  hours_per_week native_country income  \n",
       "0          4356              40  United-States  <=50K  \n",
       "1          4356              18  United-States  <=50K  \n",
       "2          4356              40  United-States  <=50K  \n",
       "3          3900              40  United-States  <=50K  \n",
       "4          3900              40  United-States  <=50K  "
      ]
     },
     "execution_count": 7,
     "metadata": {},
     "output_type": "execute_result"
    }
   ],
   "source": [
    "#################################### Data analysis, pre-processing & Visualiation #############################################\n",
    "# print information about the dataset\n",
    "df.info()\n",
    "# print first 5 rows of the dataset\n",
    "df.head()"
   ]
  },
  {
   "cell_type": "code",
   "execution_count": 13,
   "id": "5be39e4a",
   "metadata": {},
   "outputs": [],
   "source": [
    "# we can see that NA values are the '?' characters if we look closely\n",
    "# replace those values with actual NA and save the dataset\n",
    "df.replace('?', np.nan, inplace = True)"
   ]
  },
  {
   "cell_type": "code",
   "execution_count": 14,
   "id": "e1a8c962",
   "metadata": {},
   "outputs": [
    {
     "data": {
      "text/plain": [
       "age                  0\n",
       "work_class        1836\n",
       "final_weight         0\n",
       "education            0\n",
       "education_num        0\n",
       "marital_status       0\n",
       "occupation        1843\n",
       "relationship         0\n",
       "race                 0\n",
       "sex                  0\n",
       "capital_gain         0\n",
       "capital_loss         0\n",
       "hours_per_week       0\n",
       "native_country     583\n",
       "income               0\n",
       "dtype: int64"
      ]
     },
     "execution_count": 14,
     "metadata": {},
     "output_type": "execute_result"
    }
   ],
   "source": [
    "# check again for NA values\n",
    "df.isnull().sum()"
   ]
  },
  {
   "cell_type": "code",
   "execution_count": 15,
   "id": "704c5201",
   "metadata": {},
   "outputs": [
    {
     "data": {
      "text/plain": [
       "age               0\n",
       "work_class        0\n",
       "final_weight      0\n",
       "education         0\n",
       "education_num     0\n",
       "marital_status    0\n",
       "occupation        0\n",
       "relationship      0\n",
       "race              0\n",
       "sex               0\n",
       "capital_gain      0\n",
       "capital_loss      0\n",
       "hours_per_week    0\n",
       "native_country    0\n",
       "income            0\n",
       "dtype: int64"
      ]
     },
     "execution_count": 15,
     "metadata": {},
     "output_type": "execute_result"
    }
   ],
   "source": [
    "# workclass, occupation, and native country should not be dropped, i.e., low percentage of na values relatively to\n",
    "# the total no. of entries\n",
    "# so just drop the rows where there are na values\n",
    "df.dropna(inplace = True)\n",
    "# check the changes\n",
    "df.isnull().sum()"
   ]
  },
  {
   "cell_type": "code",
   "execution_count": 16,
   "id": "cbaf32b7",
   "metadata": {},
   "outputs": [
    {
     "data": {
      "text/plain": [
       "23"
      ]
     },
     "execution_count": 16,
     "metadata": {},
     "output_type": "execute_result"
    }
   ],
   "source": [
    "# look for duplicated rows\n",
    "df.duplicated().sum()"
   ]
  },
  {
   "cell_type": "code",
   "execution_count": 17,
   "id": "9be7dc2d",
   "metadata": {},
   "outputs": [
    {
     "name": "stdout",
     "output_type": "stream",
     "text": [
      "0\n"
     ]
    },
    {
     "data": {
      "text/html": [
       "<div>\n",
       "<style scoped>\n",
       "    .dataframe tbody tr th:only-of-type {\n",
       "        vertical-align: middle;\n",
       "    }\n",
       "\n",
       "    .dataframe tbody tr th {\n",
       "        vertical-align: top;\n",
       "    }\n",
       "\n",
       "    .dataframe thead th {\n",
       "        text-align: right;\n",
       "    }\n",
       "</style>\n",
       "<table border=\"1\" class=\"dataframe\">\n",
       "  <thead>\n",
       "    <tr style=\"text-align: right;\">\n",
       "      <th></th>\n",
       "      <th>age</th>\n",
       "      <th>work_class</th>\n",
       "      <th>final_weight</th>\n",
       "      <th>education</th>\n",
       "      <th>education_num</th>\n",
       "      <th>marital_status</th>\n",
       "      <th>occupation</th>\n",
       "      <th>relationship</th>\n",
       "      <th>race</th>\n",
       "      <th>sex</th>\n",
       "      <th>capital_gain</th>\n",
       "      <th>capital_loss</th>\n",
       "      <th>hours_per_week</th>\n",
       "      <th>native_country</th>\n",
       "      <th>income</th>\n",
       "    </tr>\n",
       "  </thead>\n",
       "  <tbody>\n",
       "    <tr>\n",
       "      <th>1</th>\n",
       "      <td>82</td>\n",
       "      <td>Private</td>\n",
       "      <td>132870</td>\n",
       "      <td>HS-grad</td>\n",
       "      <td>9</td>\n",
       "      <td>Widowed</td>\n",
       "      <td>Exec-managerial</td>\n",
       "      <td>Not-in-family</td>\n",
       "      <td>White</td>\n",
       "      <td>Female</td>\n",
       "      <td>0</td>\n",
       "      <td>4356</td>\n",
       "      <td>18</td>\n",
       "      <td>United-States</td>\n",
       "      <td>&lt;=50K</td>\n",
       "    </tr>\n",
       "    <tr>\n",
       "      <th>3</th>\n",
       "      <td>54</td>\n",
       "      <td>Private</td>\n",
       "      <td>140359</td>\n",
       "      <td>7th-8th</td>\n",
       "      <td>4</td>\n",
       "      <td>Divorced</td>\n",
       "      <td>Machine-op-inspct</td>\n",
       "      <td>Unmarried</td>\n",
       "      <td>White</td>\n",
       "      <td>Female</td>\n",
       "      <td>0</td>\n",
       "      <td>3900</td>\n",
       "      <td>40</td>\n",
       "      <td>United-States</td>\n",
       "      <td>&lt;=50K</td>\n",
       "    </tr>\n",
       "    <tr>\n",
       "      <th>4</th>\n",
       "      <td>41</td>\n",
       "      <td>Private</td>\n",
       "      <td>264663</td>\n",
       "      <td>Some-college</td>\n",
       "      <td>10</td>\n",
       "      <td>Separated</td>\n",
       "      <td>Prof-specialty</td>\n",
       "      <td>Own-child</td>\n",
       "      <td>White</td>\n",
       "      <td>Female</td>\n",
       "      <td>0</td>\n",
       "      <td>3900</td>\n",
       "      <td>40</td>\n",
       "      <td>United-States</td>\n",
       "      <td>&lt;=50K</td>\n",
       "    </tr>\n",
       "    <tr>\n",
       "      <th>5</th>\n",
       "      <td>34</td>\n",
       "      <td>Private</td>\n",
       "      <td>216864</td>\n",
       "      <td>HS-grad</td>\n",
       "      <td>9</td>\n",
       "      <td>Divorced</td>\n",
       "      <td>Other-service</td>\n",
       "      <td>Unmarried</td>\n",
       "      <td>White</td>\n",
       "      <td>Female</td>\n",
       "      <td>0</td>\n",
       "      <td>3770</td>\n",
       "      <td>45</td>\n",
       "      <td>United-States</td>\n",
       "      <td>&lt;=50K</td>\n",
       "    </tr>\n",
       "    <tr>\n",
       "      <th>6</th>\n",
       "      <td>38</td>\n",
       "      <td>Private</td>\n",
       "      <td>150601</td>\n",
       "      <td>10th</td>\n",
       "      <td>6</td>\n",
       "      <td>Separated</td>\n",
       "      <td>Adm-clerical</td>\n",
       "      <td>Unmarried</td>\n",
       "      <td>White</td>\n",
       "      <td>Male</td>\n",
       "      <td>0</td>\n",
       "      <td>3770</td>\n",
       "      <td>40</td>\n",
       "      <td>United-States</td>\n",
       "      <td>&lt;=50K</td>\n",
       "    </tr>\n",
       "  </tbody>\n",
       "</table>\n",
       "</div>"
      ],
      "text/plain": [
       "   age work_class  final_weight     education  education_num marital_status  \\\n",
       "1   82    Private        132870       HS-grad              9        Widowed   \n",
       "3   54    Private        140359       7th-8th              4       Divorced   \n",
       "4   41    Private        264663  Some-college             10      Separated   \n",
       "5   34    Private        216864       HS-grad              9       Divorced   \n",
       "6   38    Private        150601          10th              6      Separated   \n",
       "\n",
       "          occupation   relationship   race     sex  capital_gain  \\\n",
       "1    Exec-managerial  Not-in-family  White  Female             0   \n",
       "3  Machine-op-inspct      Unmarried  White  Female             0   \n",
       "4     Prof-specialty      Own-child  White  Female             0   \n",
       "5      Other-service      Unmarried  White  Female             0   \n",
       "6       Adm-clerical      Unmarried  White    Male             0   \n",
       "\n",
       "   capital_loss  hours_per_week native_country income  \n",
       "1          4356              18  United-States  <=50K  \n",
       "3          3900              40  United-States  <=50K  \n",
       "4          3900              40  United-States  <=50K  \n",
       "5          3770              45  United-States  <=50K  \n",
       "6          3770              40  United-States  <=50K  "
      ]
     },
     "execution_count": 17,
     "metadata": {},
     "output_type": "execute_result"
    }
   ],
   "source": [
    "# drop the row duplicates and save the dataset\n",
    "df.drop_duplicates(inplace = True)\n",
    "# check the changes\n",
    "print(df.duplicated().sum())\n",
    "# get 5 rows to have a look on the current dataframe\n",
    "df.head()"
   ]
  },
  {
   "cell_type": "code",
   "execution_count": 18,
   "id": "445f042f",
   "metadata": {},
   "outputs": [
    {
     "data": {
      "text/html": [
       "<div>\n",
       "<style scoped>\n",
       "    .dataframe tbody tr th:only-of-type {\n",
       "        vertical-align: middle;\n",
       "    }\n",
       "\n",
       "    .dataframe tbody tr th {\n",
       "        vertical-align: top;\n",
       "    }\n",
       "\n",
       "    .dataframe thead th {\n",
       "        text-align: right;\n",
       "    }\n",
       "</style>\n",
       "<table border=\"1\" class=\"dataframe\">\n",
       "  <thead>\n",
       "    <tr style=\"text-align: right;\">\n",
       "      <th></th>\n",
       "      <th>age</th>\n",
       "      <th>work_class</th>\n",
       "      <th>final_weight</th>\n",
       "      <th>education</th>\n",
       "      <th>education_num</th>\n",
       "      <th>marital_status</th>\n",
       "      <th>occupation</th>\n",
       "      <th>relationship</th>\n",
       "      <th>race</th>\n",
       "      <th>sex</th>\n",
       "      <th>capital_gain</th>\n",
       "      <th>capital_loss</th>\n",
       "      <th>hours_per_week</th>\n",
       "      <th>native_country</th>\n",
       "      <th>income</th>\n",
       "    </tr>\n",
       "  </thead>\n",
       "  <tbody>\n",
       "    <tr>\n",
       "      <th>0</th>\n",
       "      <td>82</td>\n",
       "      <td>Private</td>\n",
       "      <td>132870</td>\n",
       "      <td>HS-grad</td>\n",
       "      <td>9</td>\n",
       "      <td>Widowed</td>\n",
       "      <td>Exec-managerial</td>\n",
       "      <td>Not-in-family</td>\n",
       "      <td>White</td>\n",
       "      <td>Female</td>\n",
       "      <td>0</td>\n",
       "      <td>4356</td>\n",
       "      <td>18</td>\n",
       "      <td>United-States</td>\n",
       "      <td>&lt;=50K</td>\n",
       "    </tr>\n",
       "    <tr>\n",
       "      <th>1</th>\n",
       "      <td>54</td>\n",
       "      <td>Private</td>\n",
       "      <td>140359</td>\n",
       "      <td>7th-8th</td>\n",
       "      <td>4</td>\n",
       "      <td>Divorced</td>\n",
       "      <td>Machine-op-inspct</td>\n",
       "      <td>Unmarried</td>\n",
       "      <td>White</td>\n",
       "      <td>Female</td>\n",
       "      <td>0</td>\n",
       "      <td>3900</td>\n",
       "      <td>40</td>\n",
       "      <td>United-States</td>\n",
       "      <td>&lt;=50K</td>\n",
       "    </tr>\n",
       "    <tr>\n",
       "      <th>2</th>\n",
       "      <td>41</td>\n",
       "      <td>Private</td>\n",
       "      <td>264663</td>\n",
       "      <td>Some-college</td>\n",
       "      <td>10</td>\n",
       "      <td>Separated</td>\n",
       "      <td>Prof-specialty</td>\n",
       "      <td>Own-child</td>\n",
       "      <td>White</td>\n",
       "      <td>Female</td>\n",
       "      <td>0</td>\n",
       "      <td>3900</td>\n",
       "      <td>40</td>\n",
       "      <td>United-States</td>\n",
       "      <td>&lt;=50K</td>\n",
       "    </tr>\n",
       "    <tr>\n",
       "      <th>3</th>\n",
       "      <td>34</td>\n",
       "      <td>Private</td>\n",
       "      <td>216864</td>\n",
       "      <td>HS-grad</td>\n",
       "      <td>9</td>\n",
       "      <td>Divorced</td>\n",
       "      <td>Other-service</td>\n",
       "      <td>Unmarried</td>\n",
       "      <td>White</td>\n",
       "      <td>Female</td>\n",
       "      <td>0</td>\n",
       "      <td>3770</td>\n",
       "      <td>45</td>\n",
       "      <td>United-States</td>\n",
       "      <td>&lt;=50K</td>\n",
       "    </tr>\n",
       "    <tr>\n",
       "      <th>4</th>\n",
       "      <td>38</td>\n",
       "      <td>Private</td>\n",
       "      <td>150601</td>\n",
       "      <td>10th</td>\n",
       "      <td>6</td>\n",
       "      <td>Separated</td>\n",
       "      <td>Adm-clerical</td>\n",
       "      <td>Unmarried</td>\n",
       "      <td>White</td>\n",
       "      <td>Male</td>\n",
       "      <td>0</td>\n",
       "      <td>3770</td>\n",
       "      <td>40</td>\n",
       "      <td>United-States</td>\n",
       "      <td>&lt;=50K</td>\n",
       "    </tr>\n",
       "  </tbody>\n",
       "</table>\n",
       "</div>"
      ],
      "text/plain": [
       "   age work_class  final_weight     education  education_num marital_status  \\\n",
       "0   82    Private        132870       HS-grad              9        Widowed   \n",
       "1   54    Private        140359       7th-8th              4       Divorced   \n",
       "2   41    Private        264663  Some-college             10      Separated   \n",
       "3   34    Private        216864       HS-grad              9       Divorced   \n",
       "4   38    Private        150601          10th              6      Separated   \n",
       "\n",
       "          occupation   relationship   race     sex  capital_gain  \\\n",
       "0    Exec-managerial  Not-in-family  White  Female             0   \n",
       "1  Machine-op-inspct      Unmarried  White  Female             0   \n",
       "2     Prof-specialty      Own-child  White  Female             0   \n",
       "3      Other-service      Unmarried  White  Female             0   \n",
       "4       Adm-clerical      Unmarried  White    Male             0   \n",
       "\n",
       "   capital_loss  hours_per_week native_country income  \n",
       "0          4356              18  United-States  <=50K  \n",
       "1          3900              40  United-States  <=50K  \n",
       "2          3900              40  United-States  <=50K  \n",
       "3          3770              45  United-States  <=50K  \n",
       "4          3770              40  United-States  <=50K  "
      ]
     },
     "execution_count": 18,
     "metadata": {},
     "output_type": "execute_result"
    }
   ],
   "source": [
    "# reset indexing of rows for avoiding future errors after dropping columns\n",
    "df.reset_index(drop = True, inplace = True)\n",
    "df.head()"
   ]
  },
  {
   "cell_type": "code",
   "execution_count": 20,
   "id": "b57ae14d",
   "metadata": {},
   "outputs": [
    {
     "name": "stdout",
     "output_type": "stream",
     "text": [
      "age                0.528971\n",
      "final_weight       1.460055\n",
      "education_num     -0.302845\n",
      "capital_gain      11.898104\n",
      "capital_loss       4.524409\n",
      "hours_per_week     0.332386\n",
      "dtype: float64\n"
     ]
    }
   ],
   "source": [
    "# find symmetry, asymmetry in the columns/skewness of continous / numerical columns that will help us further to find outliers\n",
    "skewnessBefore = df.skew(numeric_only = True)\n",
    "print(skewnessBefore)"
   ]
  },
  {
   "cell_type": "code",
   "execution_count": 21,
   "id": "78bddbf3",
   "metadata": {
    "scrolled": false
   },
   "outputs": [
    {
     "data": {
      "image/png": "[encoded data removed]",
      "text/plain": [
       "<Figure size 1440x360 with 2 Axes>"
      ]
     },
     "metadata": {
      "needs_background": "light"
     },
     "output_type": "display_data"
    },
    {
     "data": {
      "image/png": "[encoded data removed]",
      "text/plain": [
       "<Figure size 1440x360 with 2 Axes>"
      ]
     },
     "metadata": {
      "needs_background": "light"
     },
     "output_type": "display_data"
    },
    {
     "data": {
      "image/png": "[encoded data removed]",
      "text/plain": [
       "<Figure size 1440x360 with 1 Axes>"
      ]
     },
     "metadata": {
      "needs_background": "light"
     },
     "output_type": "display_data"
    }
   ],
   "source": [
    "# identifying outliers for age, final_weight, education_num, capital_gain, capital_loss, hours_per_week\n",
    "# using boxplots \n",
    "# from the previous output we deduced that:\n",
    "# age is moderately skewed\n",
    "# final_weight is highly skewed\n",
    "# education_num is fairly symmetrical\n",
    "# capital_gain is highly skewed\n",
    "# capital_loss is highly skewed\n",
    "# hours_per_week is fairly symmetrical\n",
    "\n",
    "# for each column print print a boxplot according to sex category, in this case we want to print 2 boxplots aside\n",
    "# make a function, because we might use it later to check the changes to print at least 2 boxplot, no more than that\n",
    "def plotSkewness(temp_df, cols):\n",
    "    for i in range(0, len(cols), 2):\n",
    "        # the last boxplot does not have anything aside if it is an odd number of plots\n",
    "        if (i != 0 and i == len(cols) - 1 and len(cols) % 2 != 0):\n",
    "            # frame / figure for the last boxplot\n",
    "            fig, ax = plt.subplots(1, 1, figsize = (20, 5))\n",
    "            sns.boxplot(data = temp_df, x = skewedCols[i], y = 'sex')\n",
    "        elif (i >= 0 and i <= len(cols) - 2 and len(cols) >= 2):\n",
    "            # frame / figure for the 4 boxplots printed\n",
    "            fig, ax = plt.subplots(1, 2, figsize = (20, 5))\n",
    "            fig.tight_layout(pad = 5)\n",
    "            # plot the first boxplot\n",
    "            sns.boxplot(data = temp_df, x = cols[i], y = 'sex', ax = ax[0])\n",
    "            # plot the second boxplot next to the previous one\n",
    "            sns.boxplot(data = temp_df, x = cols[i + 1], y = 'sex', ax = ax[1])\n",
    "            \n",
    "skewedCols = ['age', 'final_weight', 'capital_gain', 'capital_loss', 'hours_per_week']\n",
    "plotSkewness(df, skewedCols)"
   ]
  },
  {
   "cell_type": "code",
   "execution_count": 24,
   "id": "9da4dc71",
   "metadata": {
    "scrolled": true
   },
   "outputs": [
    {
     "data": {
      "image/png": "[encoded data removed]",
      "text/plain": [
       "<Figure size 1440x360 with 2 Axes>"
      ]
     },
     "metadata": {
      "needs_background": "light"
     },
     "output_type": "display_data"
    }
   ],
   "source": [
    "# after having a clear look on the above plots, and we can say that skewness of the cols stated above can be deduced by \n",
    "# finding the exact indices of the outliers using the IQR procedure\n",
    "# of course boxplots helped us (visually) but IQR procedure is the most trustable one / mechanism behind the boxplot\n",
    "\n",
    "# automate the process for the cols specified using a function and a loop to remove them\n",
    "# we'll use it later as well\n",
    "def removeOutliers(temp_df, cols):\n",
    "    for i in cols:\n",
    "        # lower quartile\n",
    "        Q1 = np.percentile(temp_df[i], 25, interpolation = 'midpoint')\n",
    "        # upper quartile\n",
    "        Q3 = np.percentile(temp_df[i], 75, interpolation = 'midpoint')\n",
    "\n",
    "        # calculate the interquartile\n",
    "        IQR = Q3 - Q1\n",
    "\n",
    "        # look for the outliers that are over upper boundary\n",
    "        upper = np.where(temp_df[i] >= (Q3 + 1.5 * IQR))\n",
    "        # look for the outliers that are below the lower boundary\n",
    "        lower = np.where(temp_df[i] <= (Q1 - 1.5 * IQR))\n",
    "\n",
    "        # upper and lower is an array inside of a tuple, just get the array out\n",
    "        upper = upper[0]\n",
    "        lower = lower[0]\n",
    "\n",
    "        # remove outliers using the arrays obtained from above\n",
    "        # drop outliers above upper boundary\n",
    "        df.drop(upper, axis = 0, inplace = True)\n",
    "        \n",
    "        # drop outliers below lower boundary\n",
    "        df.drop(lower, axis = 0, inplace = True)\n",
    "        \n",
    "        # removing rows will change indexing, so reset it each time\n",
    "        df.reset_index(drop = True, inplace = True)\n",
    "        \n",
    "# specify which cols to remove outliers\n",
    "# we'll deal with capital_gain and capital_loss a bit later\n",
    "colsOutliers = ['age', 'final_weight']\n",
    "removeOutliers(df, colsOutliers)\n",
    "# now let's see the changes of the skewness\n",
    "plotSkewness(df, colsOutliers)"
   ]
  },
  {
   "cell_type": "code",
   "execution_count": 30,
   "id": "d2248c4b",
   "metadata": {},
   "outputs": [
    {
     "data": {
      "text/plain": [
       "[Text(0.5, 1.0, 'capital_gain > 0')]"
      ]
     },
     "execution_count": 30,
     "metadata": {},
     "output_type": "execute_result"
    },
    {
     "data": {
      "image/png": "[encoded data removed]",
      "text/plain": [
       "<Figure size 1080x360 with 2 Axes>"
      ]
     },
     "metadata": {
      "needs_background": "light"
     },
     "output_type": "display_data"
    },
    {
     "data": {
      "image/png": "[encoded data removed]",
      "text/plain": [
       "<Figure size 1080x360 with 2 Axes>"
      ]
     },
     "metadata": {
      "needs_background": "light"
     },
     "output_type": "display_data"
    }
   ],
   "source": [
    "# from the previous plots, we can see that now age and final_weight are fairly symmetrical\n",
    "# capital_gain and capital_loss outliers are a different case\n",
    "# our boxplots for these two columns actually show that the interquartile range is 0 meaning, that there is no variability\n",
    "# in the middle 50 % but center of distribution can be anywhere\n",
    "\n",
    "# select rows and columns for capital_gain and capital_loss that are not 0\n",
    "capitalGain = df.loc[df['capital_gain'] > 0]\n",
    "capitalLoss = df.loc[df['capital_loss'] > 0] \n",
    " \n",
    "# we want to visualize entries capital_gain and capital_loss values that are 0 and values that are not 0 using \n",
    "# a histogram chart\n",
    "\n",
    "# capital_gain\n",
    "# frame for the hisogram charts  \n",
    "fig, ax = plt.subplots(1, 2, figsize = (15, 5))\n",
    "# increase padding of the figure\n",
    "fig.tight_layout(pad = 5)\n",
    "# plot capital_gain values >= 0\n",
    "sns.histplot(data = df, x = df['capital_gain'], ax = ax[0]).set(title = 'capital_gain > 0')\n",
    "# plot capital_gain values >= 0 aside to the previous plot\n",
    "sns.histplot(data = capitalGain, x = capitalGain['capital_gain'], ax = ax[1]).set(title = 'capital_gain > 0')\n",
    "\n",
    "# capital_loss\n",
    "# frame for the hisogram charts  \n",
    "fig, ax = plt.subplots(1, 2, figsize = (15, 5))\n",
    "# increase padding of the figure\n",
    "fig.tight_layout(pad = 5)\n",
    "# plot capital_loss values >= 0\n",
    "sns.histplot(data = df, x = df['capital_loss'], ax = ax[0]).set(title = 'capital_loss > 0')\n",
    "# plot capital_loss values > 0 aside to the previous plot\n",
    "sns.histplot(data = capitalLoss, x = capitalLoss['capital_loss'], ax = ax[1]).set(title = 'capital_gain > 0')"
   ]
  },
  {
   "cell_type": "code",
   "execution_count": 31,
   "id": "994a724c",
   "metadata": {},
   "outputs": [
    {
     "data": {
      "text/plain": [
       "<AxesSubplot:xlabel='capital_loss', ylabel='sex'>"
      ]
     },
     "execution_count": 31,
     "metadata": {},
     "output_type": "execute_result"
    },
    {
     "data": {
      "image/png": "[encoded data removed]",
      "text/plain": [
       "<Figure size 1080x360 with 2 Axes>"
      ]
     },
     "metadata": {
      "needs_background": "light"
     },
     "output_type": "display_data"
    }
   ],
   "source": [
    "# as we can see from the from the histograms above of capital_gain and capital_loss\n",
    "# the number of variable counts that have a value not equal to 0 is really low relatively to the variables \n",
    "# that have a value of 0 (almost the entire dataset)\n",
    "# no wonder the IQR range of the boxplots of these two columns is 0, i.e., both have more than 50% of values equal to 0\n",
    "\n",
    "# let's boxplot these two columns\n",
    "# frame for the boxplots of capital_gain and capital_loss\n",
    "fig, ax = plt.subplots(1, 2, figsize = (15, 5))\n",
    "fig.tight_layout(pad = 5)\n",
    "# plot capital_gain\n",
    "sns.boxplot(data = capitalGain, x = df['capital_gain'], y = capitalGain['sex'], ax = ax[0])\n",
    "# plot capital_loss next to previous plot\n",
    "sns.boxplot(data = capitalLoss, x = df['capital_loss'], y = capitalLoss['sex'], ax = ax[1])"
   ]
  },
  {
   "cell_type": "code",
   "execution_count": 33,
   "id": "4ff10f67",
   "metadata": {},
   "outputs": [
    {
     "name": "stdout",
     "output_type": "stream",
     "text": [
      "capital_gain skewness: 3.4522888854205536\n",
      "capital_loss skewness:  -0.2755930901482565\n"
     ]
    }
   ],
   "source": [
    "# obviously, we do not want to delete outliers with value 0, these are true outliers, i.e., we expect people\n",
    "# to have capital_gain and capital_loss equal to 0 in a year\n",
    "# check the skewness of capital_gain and capital_loss for the range of values that are not equal to 0 and print them\n",
    "# these are the ranges where we can look for outliers\n",
    "print(\"capital_gain skewness:\", capitalGain['capital_gain'].skew())\n",
    "print(\"capital_loss skewness: \", capitalLoss['capital_loss'].skew())"
   ]
  },
  {
   "cell_type": "code",
   "execution_count": 36,
   "id": "61578056",
   "metadata": {},
   "outputs": [
    {
     "name": "stdout",
     "output_type": "stream",
     "text": [
      "age               0.403799\n",
      "final_weight      0.347650\n",
      "education_num    -0.289320\n",
      "capital_gain      5.707277\n",
      "capital_loss      4.470088\n",
      "hours_per_week    0.348546\n",
      "dtype: float64\n"
     ]
    }
   ],
   "source": [
    "# as we can see that do not want to modify capital_loss because is fairly symmetrical but for \n",
    "# capital_gain is >= 999999 so we remove them \n",
    "dropRows = np.where(df['capital_gain'] >= 99999)\n",
    "df.drop(dropRows[0], inplace = True)\n",
    "\n",
    "# skewness after removing outliers\n",
    "skewnessAfter = df.skew(numeric_only = True)\n",
    "print(skewnessAfter)"
   ]
  },
  {
   "cell_type": "code",
   "execution_count": 37,
   "id": "a72ae6a3",
   "metadata": {},
   "outputs": [
    {
     "data": {
      "text/plain": [
       "[Text(0.5, 1.0, 'Skewness after')]"
      ]
     },
     "execution_count": 37,
     "metadata": {},
     "output_type": "execute_result"
    },
    {
     "data": {
      "image/png": "[encoded data removed]",
      "text/plain": [
       "<Figure size 1080x360 with 2 Axes>"
      ]
     },
     "metadata": {
      "needs_background": "light"
     },
     "output_type": "display_data"
    }
   ],
   "source": [
    "# let's compare the skewness before and after removing the outliers\n",
    "# convert the skewness pandas arrays to dictionaries\n",
    "dict_skewnessBefore = dict(skewnessBefore)\n",
    "dict_skewnessAfter = dict(skewnessAfter)\n",
    "\n",
    "# convert dictionaries' key and values to lists\n",
    "keysBefore = list(dict_skewnessBefore.keys())\n",
    "valsBefore = list(dict_skewnessBefore.values())\n",
    "\n",
    "keysAfter = list(dict_skewnessAfter.keys())\n",
    "valsAfter = list(dict_skewnessAfter.values())\n",
    "\n",
    "# barplot them\n",
    "fig, ax = plt.subplots(1, 2, figsize = (15, 5))\n",
    "fig.tight_layout(pad = 5)\n",
    "sns.barplot(x = keysBefore, y = valsBefore, ax = ax[0]).set(title = 'Skewness before')\n",
    "sns.barplot(x = keysAfter, y = valsAfter, ax = ax[1]).set(title = 'Skewness after')"
   ]
  },
  {
   "cell_type": "code",
   "execution_count": 42,
   "id": "925a65d5",
   "metadata": {},
   "outputs": [
    {
     "name": "stdout",
     "output_type": "stream",
     "text": [
      "['work_class', 'education', 'marital_status', 'occupation', 'relationship', 'race', 'sex', 'native_country', 'income']\n",
      "9\n"
     ]
    }
   ],
   "source": [
    "# as we can see above we have reduced capital loss and gain skewness\n",
    "# convert categorical variables to indicator variables stage\n",
    "l = list(df.select_dtypes(include = object))\n",
    "\n",
    "# we have 9 string objects\n",
    "print(l)\n",
    "print(len(l))"
   ]
  },
  {
   "cell_type": "code",
   "execution_count": 43,
   "id": "b6a79718",
   "metadata": {},
   "outputs": [],
   "source": [
    "# Dealing with categorical features\n",
    "# each categorical class has at least >= 2 levels, which method to use for converting (One hot encoding)?\n",
    "# education column is ordinal which would need to be encoded\n",
    "# education-num is the equivalent of education, i.e., the highest level of education achieved represented in numerical form\n",
    "# so we just drop education column\n",
    "df.drop(['education'], axis = 1, inplace = True)\n",
    "\n",
    "# remove the categorical cols\n",
    "# using one hot encoding\n",
    "# select all nominal columns for encoding \n",
    "nominal_cols = ['work_class', 'marital_status', 'occupation', 'relationship', 'race', 'sex', 'native_country', 'income']\n",
    "df_nominal = df[nominal_cols]\n",
    "# format the encoding output as a matrix, and drop the the first level of a categorical to avoid dummy variable trap\n",
    "encoder = OneHotEncoder(drop = 'first', dtype = int, handle_unknown = 'ignore')\n",
    "# transform the selected column to numerical\n",
    "df_nominal = encoder.fit_transform(df_nominal).toarray()\n",
    "# convert it back to a dataframe\n",
    "df_nominal = pd.DataFrame(df_nominal)\n",
    "\n",
    "# drop the categorical columns that have been encoded\n",
    "df.drop(nominal_cols, axis = 1, inplace = True)\n",
    "\n",
    "# concatenate the original dataframe with the one that contains the encoded categorical variables and keep the data types \n",
    "# preserved\n",
    "df = pd.concat([df, df_nominal], axis = 1, join = 'inner')"
   ]
  },
  {
   "cell_type": "code",
   "execution_count": 44,
   "id": "16f65709",
   "metadata": {
    "scrolled": true
   },
   "outputs": [
    {
     "data": {
      "text/html": [
       "<div>\n",
       "<style scoped>\n",
       "    .dataframe tbody tr th:only-of-type {\n",
       "        vertical-align: middle;\n",
       "    }\n",
       "\n",
       "    .dataframe tbody tr th {\n",
       "        vertical-align: top;\n",
       "    }\n",
       "\n",
       "    .dataframe thead th {\n",
       "        text-align: right;\n",
       "    }\n",
       "</style>\n",
       "<table border=\"1\" class=\"dataframe\">\n",
       "  <thead>\n",
       "    <tr style=\"text-align: right;\">\n",
       "      <th></th>\n",
       "      <th>age</th>\n",
       "      <th>final_weight</th>\n",
       "      <th>education_num</th>\n",
       "      <th>capital_gain</th>\n",
       "      <th>capital_loss</th>\n",
       "      <th>hours_per_week</th>\n",
       "      <th>0</th>\n",
       "      <th>1</th>\n",
       "      <th>2</th>\n",
       "      <th>3</th>\n",
       "      <th>...</th>\n",
       "      <th>66</th>\n",
       "      <th>67</th>\n",
       "      <th>68</th>\n",
       "      <th>69</th>\n",
       "      <th>70</th>\n",
       "      <th>71</th>\n",
       "      <th>72</th>\n",
       "      <th>73</th>\n",
       "      <th>74</th>\n",
       "      <th>75</th>\n",
       "    </tr>\n",
       "  </thead>\n",
       "  <tbody>\n",
       "    <tr>\n",
       "      <th>0</th>\n",
       "      <td>54</td>\n",
       "      <td>140359</td>\n",
       "      <td>4</td>\n",
       "      <td>0</td>\n",
       "      <td>3900</td>\n",
       "      <td>40</td>\n",
       "      <td>0</td>\n",
       "      <td>1</td>\n",
       "      <td>0</td>\n",
       "      <td>0</td>\n",
       "      <td>...</td>\n",
       "      <td>0</td>\n",
       "      <td>0</td>\n",
       "      <td>0</td>\n",
       "      <td>0</td>\n",
       "      <td>0</td>\n",
       "      <td>0</td>\n",
       "      <td>1</td>\n",
       "      <td>0</td>\n",
       "      <td>0</td>\n",
       "      <td>0</td>\n",
       "    </tr>\n",
       "    <tr>\n",
       "      <th>1</th>\n",
       "      <td>41</td>\n",
       "      <td>264663</td>\n",
       "      <td>10</td>\n",
       "      <td>0</td>\n",
       "      <td>3900</td>\n",
       "      <td>40</td>\n",
       "      <td>0</td>\n",
       "      <td>1</td>\n",
       "      <td>0</td>\n",
       "      <td>0</td>\n",
       "      <td>...</td>\n",
       "      <td>0</td>\n",
       "      <td>0</td>\n",
       "      <td>0</td>\n",
       "      <td>0</td>\n",
       "      <td>0</td>\n",
       "      <td>0</td>\n",
       "      <td>1</td>\n",
       "      <td>0</td>\n",
       "      <td>0</td>\n",
       "      <td>0</td>\n",
       "    </tr>\n",
       "    <tr>\n",
       "      <th>2</th>\n",
       "      <td>34</td>\n",
       "      <td>216864</td>\n",
       "      <td>9</td>\n",
       "      <td>0</td>\n",
       "      <td>3770</td>\n",
       "      <td>45</td>\n",
       "      <td>0</td>\n",
       "      <td>1</td>\n",
       "      <td>0</td>\n",
       "      <td>0</td>\n",
       "      <td>...</td>\n",
       "      <td>0</td>\n",
       "      <td>0</td>\n",
       "      <td>0</td>\n",
       "      <td>0</td>\n",
       "      <td>0</td>\n",
       "      <td>0</td>\n",
       "      <td>1</td>\n",
       "      <td>0</td>\n",
       "      <td>0</td>\n",
       "      <td>0</td>\n",
       "    </tr>\n",
       "    <tr>\n",
       "      <th>3</th>\n",
       "      <td>38</td>\n",
       "      <td>150601</td>\n",
       "      <td>6</td>\n",
       "      <td>0</td>\n",
       "      <td>3770</td>\n",
       "      <td>40</td>\n",
       "      <td>0</td>\n",
       "      <td>1</td>\n",
       "      <td>0</td>\n",
       "      <td>0</td>\n",
       "      <td>...</td>\n",
       "      <td>0</td>\n",
       "      <td>0</td>\n",
       "      <td>0</td>\n",
       "      <td>0</td>\n",
       "      <td>0</td>\n",
       "      <td>0</td>\n",
       "      <td>1</td>\n",
       "      <td>0</td>\n",
       "      <td>0</td>\n",
       "      <td>0</td>\n",
       "    </tr>\n",
       "    <tr>\n",
       "      <th>4</th>\n",
       "      <td>74</td>\n",
       "      <td>88638</td>\n",
       "      <td>16</td>\n",
       "      <td>0</td>\n",
       "      <td>3683</td>\n",
       "      <td>20</td>\n",
       "      <td>0</td>\n",
       "      <td>0</td>\n",
       "      <td>0</td>\n",
       "      <td>0</td>\n",
       "      <td>...</td>\n",
       "      <td>0</td>\n",
       "      <td>0</td>\n",
       "      <td>0</td>\n",
       "      <td>0</td>\n",
       "      <td>0</td>\n",
       "      <td>0</td>\n",
       "      <td>1</td>\n",
       "      <td>0</td>\n",
       "      <td>0</td>\n",
       "      <td>1</td>\n",
       "    </tr>\n",
       "  </tbody>\n",
       "</table>\n",
       "<p>5 rows × 82 columns</p>\n",
       "</div>"
      ],
      "text/plain": [
       "   age  final_weight  education_num  capital_gain  capital_loss  \\\n",
       "0   54        140359              4             0          3900   \n",
       "1   41        264663             10             0          3900   \n",
       "2   34        216864              9             0          3770   \n",
       "3   38        150601              6             0          3770   \n",
       "4   74         88638             16             0          3683   \n",
       "\n",
       "   hours_per_week  0  1  2  3  ...  66  67  68  69  70  71  72  73  74  75  \n",
       "0              40  0  1  0  0  ...   0   0   0   0   0   0   1   0   0   0  \n",
       "1              40  0  1  0  0  ...   0   0   0   0   0   0   1   0   0   0  \n",
       "2              45  0  1  0  0  ...   0   0   0   0   0   0   1   0   0   0  \n",
       "3              40  0  1  0  0  ...   0   0   0   0   0   0   1   0   0   0  \n",
       "4              20  0  0  0  0  ...   0   0   0   0   0   0   1   0   0   1  \n",
       "\n",
       "[5 rows x 82 columns]"
      ]
     },
     "execution_count": 44,
     "metadata": {},
     "output_type": "execute_result"
    }
   ],
   "source": [
    "# let's see the outcome\n",
    "df.head()"
   ]
  },
  {
   "cell_type": "code",
   "execution_count": 45,
   "id": "bda260f1",
   "metadata": {},
   "outputs": [
    {
     "data": {
      "text/plain": [
       "[Text(0.5, 1.0, 'income > 50K')]"
      ]
     },
     "execution_count": 45,
     "metadata": {},
     "output_type": "execute_result"
    },
    {
     "data": {
      "image/png": "[encoded data removed]",
      "text/plain": [
       "<Figure size 1080x360 with 2 Axes>"
      ]
     },
     "metadata": {
      "needs_background": "light"
     },
     "output_type": "display_data"
    }
   ],
   "source": [
    "# count no of people with income <= 50k or > 50k\n",
    "incomeBelow_50k = df[df[75] == 0]\n",
    "incomeAbove_50k = df[df[75] == 1]\n",
    "\n",
    "# now let's barplot the number of people that have income > 50k and those <= 50k by age\n",
    "fig, ax = plt.subplots(1, 2, figsize = (15, 5))\n",
    "# increase padding of the figure\n",
    "fig.tight_layout(pad = 5)\n",
    "# plot income values <= 50k\n",
    "sns.histplot(data = incomeBelow_50k, x = incomeBelow_50k['age'],  ax = ax[0]).set(title = 'income <= 50k')\n",
    "# plot capital_loss values > 50k aside to the previous plot\n",
    "sns.histplot(data = incomeAbove_50k, x = incomeAbove_50k['age'], ax = ax[1]).set(title = 'income > 50K')"
   ]
  },
  {
   "cell_type": "code",
   "execution_count": 47,
   "id": "7a624297",
   "metadata": {},
   "outputs": [
    {
     "name": "stdout",
     "output_type": "stream",
     "text": [
      "People with income below or equal to 50k:  21577\n",
      "Peple with income above 50K:  6941\n"
     ]
    }
   ],
   "source": [
    "print(\"People with income below or equal to 50k: \", len(incomeBelow_50k))\n",
    "print(\"Peple with income above 50K: \", len(incomeAbove_50k))\n",
    "# we can see in the above barplots the income class is imbalanced, i.e. a much higher portion are people with income <= 50K\n",
    "# this can lead to overfitting "
   ]
  },
  {
   "cell_type": "code",
   "execution_count": 48,
   "id": "716ca603",
   "metadata": {},
   "outputs": [
    {
     "data": {
      "text/plain": [
       "<AxesSubplot:>"
      ]
     },
     "execution_count": 48,
     "metadata": {},
     "output_type": "execute_result"
    },
    {
     "data": {
      "image/png": "[encoded data removed]",
      "text/plain": [
       "<Figure size 648x432 with 2 Axes>"
      ]
     },
     "metadata": {
      "needs_background": "light"
     },
     "output_type": "display_data"
    }
   ],
   "source": [
    "# let's check the correlation between columns, and use a heatmap to visualize the volume of locations in a dataset\n",
    "# it will help us to decide which areas to visualize that matter most\n",
    "\n",
    "df_cp = df[['age', 'final_weight', 'education_num', 'capital_gain', 'capital_loss', 'hours_per_week']] \n",
    "corr_matrix = df_cp.corr()\n",
    "\n",
    "# plot a heatmap of the dataframe\n",
    "fig, ax = plt.subplots(figsize = (9, 6))\n",
    "sns.heatmap(corr_matrix, annot = True, linewidths = .5, ax = ax)"
   ]
  },
  {
   "cell_type": "code",
   "execution_count": 49,
   "id": "0695874b",
   "metadata": {},
   "outputs": [
    {
     "name": "stdout",
     "output_type": "stream",
     "text": [
      "          feature         VIF\n",
      "0             age   10.335354\n",
      "1    final_weight    5.385423\n",
      "2   education_num   18.017715\n",
      "3    capital_gain    1.214947\n",
      "4    capital_loss    1.107434\n",
      "..            ...         ...\n",
      "77             71    1.173911\n",
      "78             72  261.171687\n",
      "79             73    1.749809\n",
      "80             74    1.151998\n",
      "81             75    2.038075\n",
      "\n",
      "[82 rows x 2 columns]\n"
     ]
    }
   ],
   "source": [
    "# we can see that in the above heatmap we have a weak relationship among columns (non categorical), \n",
    "# values are close to 0; there is slighltlyl colinearity for hours_per_week and education_num \n",
    "# for obvious reasons, we don't want to plot all the encoded categorical columns due to runtime reasons\n",
    "# let's find colinearity for the entire dataset features using Variance Inflation Factor\n",
    "  \n",
    "# VIF dataframe\n",
    "x = ['age', 'final_weight', 'education_num', 'capital_gain', 'capital_loss', 'hours_per_week']\n",
    "for i in range(0, 76):\n",
    "    x.append(i)\n",
    "x = df[x]\n",
    "vif_data = pd.DataFrame()\n",
    "vif_data[\"feature\"] = x.columns\n",
    "  \n",
    "# calculating VIF for each feature\n",
    "vif_data[\"VIF\"] = [variance_inflation_factor(x.values, i) for i in range(len(x.columns))]\n",
    "  \n",
    "print(vif_data)"
   ]
  },
  {
   "cell_type": "code",
   "execution_count": 50,
   "id": "2235affd",
   "metadata": {},
   "outputs": [
    {
     "data": {
      "text/plain": [
       "age               0.403560\n",
       "final_weight      0.348184\n",
       "education_num    -0.287676\n",
       "capital_gain      5.692246\n",
       "capital_loss      4.457566\n",
       "                   ...    \n",
       "71               40.923174\n",
       "72               -2.972317\n",
       "73               21.039072\n",
       "74               43.570635\n",
       "75                1.196021\n",
       "Length: 82, dtype: float64"
      ]
     },
     "execution_count": 50,
     "metadata": {},
     "output_type": "execute_result"
    }
   ],
   "source": [
    "# again, we can also see how high is the colinearity among encoded categorical features, which clearly \n",
    "# indicates the imbalance of the dataset, i.e. it is not equally distributed \n",
    "df.skew()"
   ]
  },
  {
   "cell_type": "code",
   "execution_count": 51,
   "id": "22f57a58",
   "metadata": {},
   "outputs": [],
   "source": [
    "#################################### Creating the model, training, testing, and predicting #####################################\n",
    "\n",
    "# select indepent columns for x, and for y, the dependent column, the income\n",
    "# so we want to predict the income, if people earn over 50k or not\n",
    "X = df.iloc[1:, :-1].values\n",
    "y = df.iloc[1:, -1].values\n",
    "\n",
    "# split the dataset into training set (75%) and testing set (25%), and give same result if running again, i.e. random state\n",
    "X_train, X_test, y_train, y_test = train_test_split(X, y, train_size = 80, test_size = 20, random_state = 0)\n",
    "\n",
    "# standardization of the data will help us to get a better better performance, i.e., scaling the train/test set to the same\n",
    "# standards\n",
    "scaler = StandardScaler().fit(X_train)\n",
    "X_train = scaler.transform(X_train)\n",
    "X_test = scaler.transform(X_test)\n",
    "\n",
    "\n",
    "# creating the models, training, and testing them (prediction)\n",
    "# Logistic Regression : Using one v all (for binary problem according to sklearn) \n",
    "# uses negative log likelihood loss function for the imbalanced data set \n",
    "# we use class weight that will help us deal with our imbalanced occurences of classes\n",
    "\n",
    "lr = LogisticRegression(multi_class = 'ovr', solver = 'lbfgs', class_weight = 'balanced', random_state = 1, max_iter = 1000)\n",
    "# fit the training set onto the model\n",
    "lr.fit(X_train, y_train)\n",
    "# predict with the training set itself / data seen\n",
    "y_train_pred_lr = lr.predict(X_train) \n",
    "# predict with the testing set / unseen data\n",
    "y_test_pred_lr = lr.predict(X_test)\n",
    "\n",
    "# k-NN : looking for k nereast neighbors\n",
    "knn = KNeighborsClassifier(n_neighbors = 5)\n",
    "knn.fit(X_train, y_train)\n",
    "y_train_pred_knn = knn.predict(X_train)\n",
    "y_test_pred_knn = knn.predict(X_test)"
   ]
  },
  {
   "cell_type": "code",
   "execution_count": 52,
   "id": "d9966446",
   "metadata": {},
   "outputs": [
    {
     "data": {
      "text/plain": [
       "[Text(0.5, 1.0, 'Testing set k-NN')]"
      ]
     },
     "execution_count": 52,
     "metadata": {},
     "output_type": "execute_result"
    },
    {
     "data": {
      "image/png": "[encoded data removed]",
      "text/plain": [
       "<Figure size 1080x360 with 4 Axes>"
      ]
     },
     "metadata": {
      "needs_background": "light"
     },
     "output_type": "display_data"
    },
    {
     "data": {
      "image/png": "[encoded data removed]",
      "text/plain": [
       "<Figure size 1080x360 with 4 Axes>"
      ]
     },
     "metadata": {
      "needs_background": "light"
     },
     "output_type": "display_data"
    }
   ],
   "source": [
    "# Evaluating the models\n",
    "# these initialized models will be used later on for tuning \n",
    "# logistic regression\n",
    "# cf matrix on seen data\n",
    "cmatrix_lr_train = confusion_matrix(y_train, y_train_pred_lr)\n",
    "# cf matrix on unseen data\n",
    "cmatrix_lr_test = confusion_matrix(y_test, y_test_pred_lr)\n",
    "\n",
    "fig, ax = plt.subplots(1, 2, figsize = (15, 5))\n",
    "# increase padding of the figure\n",
    "fig.tight_layout(pad = 5)\n",
    "sns.heatmap(cmatrix_lr_train, annot = True, ax = ax[0]).set(title = 'Training set LR')\n",
    "sns.heatmap(cmatrix_lr_test, annot = True, ax = ax[1]).set(title = 'Testing set LR')\n",
    "\n",
    "# K-NN Model\n",
    "cmatrix_knn_train = confusion_matrix(y_train, y_train_pred_knn)\n",
    "cmatrix_knn_test = confusion_matrix(y_test, y_test_pred_knn)\n",
    "\n",
    "fig1, ax1 = plt.subplots(1, 2, figsize = (15, 5))\n",
    "# increase padding of the figure\n",
    "fig1.tight_layout(pad = 5)\n",
    "sns.heatmap(cmatrix_knn_train, annot = True, ax = ax1[0]).set(title = 'Training set k-NN')\n",
    "sns.heatmap(cmatrix_knn_test, annot = True, ax = ax1[1]).set(title = 'Testing set k-NN')"
   ]
  },
  {
   "cell_type": "code",
   "execution_count": 53,
   "id": "281d9308",
   "metadata": {},
   "outputs": [],
   "source": [
    "# we get the following from regarding the logistic regression model and knn\n",
    "# get the classification report and convert it to a dictionary\n",
    "lr_report = classification_report(y_test, y_test_pred_lr, output_dict = True)\n",
    "# convert it to a dataframe by transposing it\n",
    "lr_report_df = pd.DataFrame(lr_report).transpose()\n",
    "\n",
    "knn_report = classification_report(y_test, y_test_pred_knn, output_dict = True)\n",
    "knn_report_df = pd.DataFrame(knn_report).transpose()"
   ]
  },
  {
   "cell_type": "code",
   "execution_count": 54,
   "id": "b11d036d",
   "metadata": {},
   "outputs": [
    {
     "data": {
      "text/html": [
       "<div>\n",
       "<style scoped>\n",
       "    .dataframe tbody tr th:only-of-type {\n",
       "        vertical-align: middle;\n",
       "    }\n",
       "\n",
       "    .dataframe tbody tr th {\n",
       "        vertical-align: top;\n",
       "    }\n",
       "\n",
       "    .dataframe thead th {\n",
       "        text-align: right;\n",
       "    }\n",
       "</style>\n",
       "<table border=\"1\" class=\"dataframe\">\n",
       "  <thead>\n",
       "    <tr style=\"text-align: right;\">\n",
       "      <th></th>\n",
       "      <th>precision</th>\n",
       "      <th>recall</th>\n",
       "      <th>f1-score</th>\n",
       "      <th>support</th>\n",
       "    </tr>\n",
       "  </thead>\n",
       "  <tbody>\n",
       "    <tr>\n",
       "      <th>0</th>\n",
       "      <td>0.933333</td>\n",
       "      <td>0.823529</td>\n",
       "      <td>0.87500</td>\n",
       "      <td>17.0</td>\n",
       "    </tr>\n",
       "    <tr>\n",
       "      <th>1</th>\n",
       "      <td>0.400000</td>\n",
       "      <td>0.666667</td>\n",
       "      <td>0.50000</td>\n",
       "      <td>3.0</td>\n",
       "    </tr>\n",
       "    <tr>\n",
       "      <th>accuracy</th>\n",
       "      <td>0.800000</td>\n",
       "      <td>0.800000</td>\n",
       "      <td>0.80000</td>\n",
       "      <td>0.8</td>\n",
       "    </tr>\n",
       "    <tr>\n",
       "      <th>macro avg</th>\n",
       "      <td>0.666667</td>\n",
       "      <td>0.745098</td>\n",
       "      <td>0.68750</td>\n",
       "      <td>20.0</td>\n",
       "    </tr>\n",
       "    <tr>\n",
       "      <th>weighted avg</th>\n",
       "      <td>0.853333</td>\n",
       "      <td>0.800000</td>\n",
       "      <td>0.81875</td>\n",
       "      <td>20.0</td>\n",
       "    </tr>\n",
       "  </tbody>\n",
       "</table>\n",
       "</div>"
      ],
      "text/plain": [
       "              precision    recall  f1-score  support\n",
       "0              0.933333  0.823529   0.87500     17.0\n",
       "1              0.400000  0.666667   0.50000      3.0\n",
       "accuracy       0.800000  0.800000   0.80000      0.8\n",
       "macro avg      0.666667  0.745098   0.68750     20.0\n",
       "weighted avg   0.853333  0.800000   0.81875     20.0"
      ]
     },
     "execution_count": 54,
     "metadata": {},
     "output_type": "execute_result"
    }
   ],
   "source": [
    "lr_report_df.head()"
   ]
  },
  {
   "cell_type": "code",
   "execution_count": 55,
   "id": "1cfac49b",
   "metadata": {},
   "outputs": [
    {
     "data": {
      "text/html": [
       "<div>\n",
       "<style scoped>\n",
       "    .dataframe tbody tr th:only-of-type {\n",
       "        vertical-align: middle;\n",
       "    }\n",
       "\n",
       "    .dataframe tbody tr th {\n",
       "        vertical-align: top;\n",
       "    }\n",
       "\n",
       "    .dataframe thead th {\n",
       "        text-align: right;\n",
       "    }\n",
       "</style>\n",
       "<table border=\"1\" class=\"dataframe\">\n",
       "  <thead>\n",
       "    <tr style=\"text-align: right;\">\n",
       "      <th></th>\n",
       "      <th>precision</th>\n",
       "      <th>recall</th>\n",
       "      <th>f1-score</th>\n",
       "      <th>support</th>\n",
       "    </tr>\n",
       "  </thead>\n",
       "  <tbody>\n",
       "    <tr>\n",
       "      <th>0</th>\n",
       "      <td>0.894737</td>\n",
       "      <td>1.000000</td>\n",
       "      <td>0.944444</td>\n",
       "      <td>17.0</td>\n",
       "    </tr>\n",
       "    <tr>\n",
       "      <th>1</th>\n",
       "      <td>1.000000</td>\n",
       "      <td>0.333333</td>\n",
       "      <td>0.500000</td>\n",
       "      <td>3.0</td>\n",
       "    </tr>\n",
       "    <tr>\n",
       "      <th>accuracy</th>\n",
       "      <td>0.900000</td>\n",
       "      <td>0.900000</td>\n",
       "      <td>0.900000</td>\n",
       "      <td>0.9</td>\n",
       "    </tr>\n",
       "    <tr>\n",
       "      <th>macro avg</th>\n",
       "      <td>0.947368</td>\n",
       "      <td>0.666667</td>\n",
       "      <td>0.722222</td>\n",
       "      <td>20.0</td>\n",
       "    </tr>\n",
       "    <tr>\n",
       "      <th>weighted avg</th>\n",
       "      <td>0.910526</td>\n",
       "      <td>0.900000</td>\n",
       "      <td>0.877778</td>\n",
       "      <td>20.0</td>\n",
       "    </tr>\n",
       "  </tbody>\n",
       "</table>\n",
       "</div>"
      ],
      "text/plain": [
       "              precision    recall  f1-score  support\n",
       "0              0.894737  1.000000  0.944444     17.0\n",
       "1              1.000000  0.333333  0.500000      3.0\n",
       "accuracy       0.900000  0.900000  0.900000      0.9\n",
       "macro avg      0.947368  0.666667  0.722222     20.0\n",
       "weighted avg   0.910526  0.900000  0.877778     20.0"
      ]
     },
     "execution_count": 55,
     "metadata": {},
     "output_type": "execute_result"
    }
   ],
   "source": [
    "knn_report_df.head()"
   ]
  },
  {
   "cell_type": "code",
   "execution_count": 57,
   "id": "2b1b23d4",
   "metadata": {},
   "outputs": [
    {
     "name": "stdout",
     "output_type": "stream",
     "text": [
      "Logistic Regression accuracy in training:  0.9625\n",
      "Logistic Regression accuracy in testing:  0.8\n",
      "k-NN in training:  0.8875\n",
      "k-NN in testing:  0.9\n"
     ]
    }
   ],
   "source": [
    "# defined a function for printing the evaluation results\n",
    "print(\"Logistic Regression accuracy in training: \", accuracy_score(y_train, y_train_pred_lr))\n",
    "print(\"Logistic Regression accuracy in testing: \", lr.score(X_test, y_test))\n",
    "print(\"k-NN in training: \", accuracy_score(y_train, y_train_pred_knn))\n",
    "print(\"k-NN in testing: \", knn.score(X_test, y_test))"
   ]
  },
  {
   "cell_type": "code",
   "execution_count": null,
   "id": "dc7b0fda",
   "metadata": {},
   "outputs": [],
   "source": [
    "# We can conclude that we are dealing with an imbalanced dataset, proved by the visual and numerical outputs from above, and\n",
    "# through the approach of removing the outliers\n",
    "# So how should we approach this issue? By using k-Fold Cross Validation resampling procedure instead of using the \n",
    "# the usual hold-out procedure train/test split\n",
    "\n",
    "# let's standardize the independent data for cross validation and future tuning\n",
    "X = scaler.transform(X)\n",
    "\n",
    "# we will use the models' initialized above\n",
    "# we chose k to be 10 as recommmended value found through experimentation\n",
    "# this is the number to split the data into k groups through a built-in function of scitkit learn\n",
    "# let's start by using the built-in function to split the data into 10 groups and suffle data for the 3 iterations\n",
    "cv = RepeatedStratifiedKFold(n_splits = 10, n_repeats = 3, random_state = 1)\n",
    "scores_lr = cross_validate(lr, X, y, cv = cv, return_train_score = True)"
   ]
  },
  {
   "cell_type": "code",
   "execution_count": 52,
   "id": "4f10718b",
   "metadata": {},
   "outputs": [],
   "source": [
    "# cross validation for knn model, will return a dict with train and test score same for lr model\n",
    "scores_knn = cross_validate(knn, X, y, cv = cv, return_train_score = True)"
   ]
  },
  {
   "cell_type": "code",
   "execution_count": 53,
   "id": "561fb611",
   "metadata": {},
   "outputs": [
    {
     "name": "stdout",
     "output_type": "stream",
     "text": [
      "Logistic Regression training score:  0.7793511655149966\n",
      "Logistic Regression testing score:  0.777889702037463\n",
      "k-NN training score:  0.8714902707837653\n",
      "k-NN testing score:  0.8179630913849565\n"
     ]
    }
   ],
   "source": [
    "# print the scores after validation\n",
    "print(\"Logistic Regression training score: \", mean(scores_lr['train_score']))\n",
    "print(\"Logistic Regression testing score: \", mean(scores_lr['test_score']))\n",
    "print(\"k-NN training score: \", mean(scores_knn['train_score']))\n",
    "print(\"k-NN testing score: \", mean(scores_knn['test_score']))"
   ]
  },
  {
   "cell_type": "code",
   "execution_count": 54,
   "id": "32d76607",
   "metadata": {},
   "outputs": [
    {
     "name": "stdout",
     "output_type": "stream",
     "text": [
      "Logistic Regression\n",
      "Training scores:  [0.76548913 0.78283758 0.83605621 0.67006946 0.42532705]\n",
      "Highest training score:  0.8360562079113323\n",
      "Testing scores:  [0.76555862 0.78268313 0.83484424 0.66879698 0.42431717]\n",
      "Highest testing score:  0.8348442424486727\n",
      "Best score chosen is 0.834844 using {'class_weight': {0: 1, 1: 1}}\n"
     ]
    }
   ],
   "source": [
    "##################################################### Model Tuning #############################################################\n",
    "\n",
    "# As we can see we get some more realistic results after cross validation, the gap between these accuracies is good\n",
    "# Now let's try and tune our models\n",
    "\n",
    "# use different class weights for tuning the module / hyperparameters\n",
    "# we test both classes 0 and 1 with small and large weights\n",
    "balance = [{0:100,1:1}, {0:10,1:1}, {0:1,1:1}, {0:1,1:10}, {0:1,1:100}]\n",
    "params_lr = dict(class_weight=balance)\n",
    "\n",
    "# define grid search for logistic regression with the hyperparameters defined above, i.e., different class weights\n",
    "grid_lr = GridSearchCV(lr, param_grid=params_lr, cv=cv, return_train_score = True)\n",
    "grid_results_lr = grid_lr.fit(X, y)\n",
    "\n",
    "# Tuning evaluation metrics for logistic regression\n",
    "print(\"Logistic Regression\")\n",
    "print(\"Training scores: \", grid_lr.cv_results_['mean_train_score'])\n",
    "print(\"Highest training score: \", max(grid_lr.cv_results_['mean_train_score']))\n",
    "print(\"Testing scores: \", grid_lr.cv_results_['mean_test_score'])\n",
    "print(\"Highest testing score: \", max(grid_lr.cv_results_['mean_test_score']))\n",
    "print(\"Best score chosen is %f using %s\" % (grid_results_lr.best_score_, grid_results_lr.best_params_))"
   ]
  },
  {
   "cell_type": "code",
   "execution_count": 55,
   "id": "0cc34b7d",
   "metadata": {},
   "outputs": [
    {
     "name": "stdout",
     "output_type": "stream",
     "text": [
      "k-NN\n",
      "Training scores:  [0.89013422 0.87149027 0.86141183]\n",
      "Highest training score:  0.8901342222314772\n",
      "Testing scores:  [0.81020545 0.81796309 0.82319659]\n",
      "Highest testing score:  0.8231965911322742\n",
      "Best score chosen is 0.823197 using {'n_neighbors': 7}\n"
     ]
    }
   ],
   "source": [
    "# use odd numbers for k neighbors to avoid confusion between classes / hyperparamter\n",
    "# for the sake of time, I am not going to use more than one hyperparameter\n",
    "params_knn = {\"n_neighbors\": [3, 5, 7]}\n",
    "grid_knn = GridSearchCV(knn, param_grid = params_knn, cv = cv, return_train_score = True)\n",
    "grid_results_knn = grid_knn.fit(X, y)\n",
    "\n",
    "# Tuning evaluation metrics for k-NN\n",
    "print(\"k-NN\")\n",
    "print(\"Training scores: \", grid_knn.cv_results_['mean_train_score'])\n",
    "print(\"Highest training score: \", max(grid_knn.cv_results_['mean_train_score']))\n",
    "print(\"Testing scores: \", grid_knn.cv_results_['mean_test_score'])\n",
    "print(\"Highest testing score: \", max(grid_knn.cv_results_['mean_test_score']))\n",
    "print(\"Best score chosen is %f using %s\" % (grid_results_knn.best_score_, grid_results_knn.best_params_))"
   ]
  },
  {
   "cell_type": "code",
   "execution_count": 63,
   "id": "4b671a7a",
   "metadata": {},
   "outputs": [
    {
     "data": {
      "text/plain": [
       "(28790, 82)"
      ]
     },
     "execution_count": 63,
     "metadata": {},
     "output_type": "execute_result"
    }
   ],
   "source": [
    "df.shape"
   ]
  },
  {
   "cell_type": "code",
   "execution_count": 67,
   "id": "890b7cf6",
   "metadata": {},
   "outputs": [],
   "source": [
    "weighting = lambda n_class: 28790 / (2 * n_class)"
   ]
  },
  {
   "cell_type": "code",
   "execution_count": 68,
   "id": "6aa32701",
   "metadata": {},
   "outputs": [
    {
     "name": "stdout",
     "output_type": "stream",
     "text": [
      "0.6605331987335383\n"
     ]
    }
   ],
   "source": [
    "#People with income below or equal to 50k:  21793\n",
    "#Peple with income above 50K:  6997\n",
    "print(weighting(21793))"
   ]
  },
  {
   "cell_type": "code",
   "execution_count": null,
   "id": "55015ea1",
   "metadata": {},
   "outputs": [],
   "source": []
  }
 ],
 "metadata": {
  "kernelspec": {
   "display_name": "Python 3 (ipykernel)",
   "language": "python",
   "name": "python3"
  },
  "language_info": {
   "codemirror_mode": {
    "name": "ipython",
    "version": 3
   },
   "file_extension": ".py",
   "mimetype": "text/x-python",
   "name": "python",
   "nbconvert_exporter": "python",
   "pygments_lexer": "ipython3",
   "version": "3.9.12"
  }
 },
 "nbformat": 4,
 "nbformat_minor": 5
}
